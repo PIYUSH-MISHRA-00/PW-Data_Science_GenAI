{
 "cells": [
  {
   "cell_type": "markdown",
   "metadata": {},
   "source": [
    "# Data Types and Structures Assignment Questions\n",
    "\n",
    "## Theoretical Questions\n",
    "1. What are data structures, and why are they important?\n",
    "2. Explain the difference between mutable and immutable data types with examples.\n",
    "3. What are the main differences between lists and tuples in Python?\n",
    "4. Describe how dictionaries store data.\n",
    "5. Why might you use a set instead of a list in Python?\n",
    "6. What is a string in Python, and how is it different from a list?\n",
    "7. How do tuples ensure data integrity in Python?\n",
    "8. What is a hash table, and how does it relate to dictionaries in Python?\n",
    "9. Can lists contain different data types in Python?\n",
    "10. Explain why strings are immutable in Python.\n",
    "11. What advantages do dictionaries offer over lists for certain tasks?\n",
    "12. Describe a scenario where using a tuple would be preferable over a list.\n",
    "13. How do sets handle duplicate values in Python?\n",
    "14. How does the “in” keyword work differently for lists and dictionaries?\n",
    "15. Can you modify the elements of a tuple? Explain why or why not.\n",
    "16. What is a nested dictionary? Give an example of its use case.\n",
    "17. Describe the time complexity of accessing elements in a dictionary.\n",
    "18. In what situations are lists preferred over dictionaries?\n",
    "19. Why are dictionaries considered unordered, and how does that affect data retrieval?\n",
    "20. Explain the difference between a list and a dictionary in terms of data retrieval."
   ]
  },
  {
   "cell_type": "markdown",
   "metadata": {},
   "source": [
    "## Practical Questions\n",
    "1. Write a code to create a string with your name and print it.\n",
    "2. Write a code to find the length of the string `\"Hello World\"`.\n",
    "3. Write a code to slice the first 3 characters from the string `\"Python Programming\"`.\n",
    "4. Write a code to convert the string `\"hello\"` to uppercase.\n",
    "5. Write a code to replace the word `\"apple\"` with `\"orange\"` in the string `\"I like apple\"`.\n",
    "6. Write a code to create a list with numbers 1 to 5 and print it.\n",
    "7. Write a code to append the number `10` to the list `[1, 2, 3, 4]`.\n",
    "8. Write a code to remove the number `3` from the list `[1, 2, 3, 4, 5]`.\n",
    "9. Write a code to access the second element in the list `['a', 'b', 'c', 'd']`.\n",
    "10. Write a code to reverse the list `[10, 20, 30, 40, 50]`.\n",
    "11. Write a code to create a tuple with the elements `100, 200, 300` and print it.\n",
    "12. Write a code to access the second-to-last element of the tuple `('red', 'green', 'blue', 'yellow')`.\n",
    "13. Write a code to find the minimum number in the tuple `(10, 20, 5, 15)`.\n",
    "14. Write a code to find the index of the element `\"cat\"` in the tuple `('dog', 'cat', 'rabbit')`.\n",
    "15. Write a code to create a tuple containing three different fruits and check if `\"kiwi\"` is in it.\n",
    "16. Write a code to create a set with the elements `'a', 'b', 'c'` and print it.\n",
    "17. Write a code to clear all elements from the set `{1, 2, 3, 4, 5}`.\n",
    "18. Write a code to remove the element `4` from the set `{1, 2, 3, 4}`.\n",
    "19. Write a code to find the union of two sets `{1, 2, 3}` and `{3, 4, 5}`.\n",
    "20. Write a code to find the intersection of two sets `{1, 2, 3}` and `{2, 3, 4}`.\n",
    "21. Write a code to create a dictionary with the keys `\"name\"`, `\"age\"`, and `\"city\"`, and print it.\n",
    "22. Write a code to add a new key-value pair `\"country\": \"USA\"` to the dictionary `{'name': 'John', 'age': 25}`.\n",
    "23. Write a code to access the value associated with the key `\"name\"` in the dictionary `{'name': 'Alice', 'age': 30}`.\n",
    "24. Write a code to remove the key `\"age\"` from the dictionary `{'name': 'Bob', 'age': 22, 'city': 'New York'}`.\n",
    "25. Write a code to check if the key `\"city\"` exists in the dictionary `{'name': 'Alice', 'city': 'Paris'}`.\n",
    "26. Write a code to create a list, a tuple, and a dictionary, and print them all.\n",
    "27. Write a code to create a list of 5 random numbers between 1 and 100, sort it in ascending order, and print the result.\n",
    "28. Write a code to create a list with strings and print the element at the third index.\n",
    "29. Write a code to combine two dictionaries into one and print the result.\n",
    "30. Write a code to convert a list of strings into a set."
   ]
  },
  {
   "cell_type": "markdown",
   "metadata": {},
   "source": [
    "## Theoretical Questions\n",
    "1. What are data structures, and why are they important?\n",
    "\n",
    "Ans. Data structures are the way to store and organize data in the computer so that they can be used efficiently. They are important because they help the programmer to write efficient and effective programs. They are also used to reduce the time complexity of an algorithm."
   ]
  },
  {
   "cell_type": "markdown",
   "metadata": {},
   "source": [
    "2. Explain the difference between mutable and immutable data types with examples.\n",
    "\n",
    "Ans. The difference between the mutable and immutable data types is that the mutable data types can be changed after they are created , while immutable data types cannot be changed after they are created. For example, a `list` is a `mutable data type` because it can be changed after it is created, while `tuple` is an `immutable data type` because it can't be changed after it is created."
   ]
  },
  {
   "cell_type": "markdown",
   "metadata": {},
   "source": [
    "3. What are the main differences between lists and tuples in Python?\n",
    "\n",
    "Ans. Lists and tuples are the two most commonly used data structure used in Python. The main difference between them is that lists are mutable, meaning they can be modified after they are created, while tuples are immutable, meaning they cannot be modified after they are created. Lists are defined by square brackets '[]' and tuples are defined by parenthesis '()'."
   ]
  },
  {
   "cell_type": "markdown",
   "metadata": {},
   "source": [
    "4. Describe how dictionaries store data.\n",
    "\n",
    "Ans. Dictionaries store data in the form of key value pairs. Each key is unique and maps to a specific value. This allows for efficient retrieval and manipulation of data."
   ]
  },
  {
   "cell_type": "markdown",
   "metadata": {},
   "source": [
    "5. Why might you use a set instead of a list in Python?\n",
    "\n",
    "Ans. You might use a set instead of a list in python when you need to store a collection of unique elements. Sets are unordered collections of unique elements, which makes them useful in removing duplicates from a list or checking if an element is already in the collection. "
   ]
  },
  {
   "cell_type": "markdown",
   "metadata": {},
   "source": [
    "6. What is a string in Python, and how is it different from a list?\n",
    "\n",
    "Ans. A string is a collection of characters in Python, and it is immutable, meaning that once a string is created, it cannot be changed. A list, is a collection of any data type, and it is mutable, meaning it can be changed after it is created. String are defined by enclosing the charecters in quotes, whereas a list is defined by enclosing the elements in square brackets."
   ]
  },
  {
   "cell_type": "markdown",
   "metadata": {},
   "source": [
    "7. How do tuples ensure data integrity in Python?\n",
    "\n",
    "Ans. Tuples in Python ensure data integrety by being immutable, meaning that once a tuple is created, it cannot be changed. This ensures that the data cannot be accidentally or maliciously modified. Tuples are also hashable, which means they can be used as key values in dictionaries and as elements in sets."
   ]
  },
  {
   "cell_type": "markdown",
   "metadata": {},
   "source": [
    "8. What is a hash table, and how does it relate to dictionaries in Python?\n",
    "\n",
    "Ans. A hash table is a data structure that stores key-value pairs in a way that allows for efficient lookup, insertion, and deletion of elements. In Python, dictionaries are implemented as hash tables, which means that they can store and retrieve the elements quickly even when the dictionary is large. The hash table uses a hash function to map keys to indicies of a backing array, allowing for fast lookup and insertions. This is why dictionaries in Python are so fast and efficient. "
   ]
  },
  {
   "cell_type": "markdown",
   "metadata": {},
   "source": [
    "9. Can lists contain different data types in Python?\n",
    "\n",
    "Ans. Yes, lists in Python can contain different data types. For example lists can contain both integers and strings. "
   ]
  },
  {
   "cell_type": "markdown",
   "metadata": {},
   "source": [
    "10. Explain why strings are immutable in Python.\n",
    "\n",
    "Ans. Strings in Python are immutable because they are stored in read-only memory. This means that even if you change the string, the original string remains unchanged. This is because strings are stored as a sequence of characters, and changing a string would require modifying the underlying memory, which is not allowed in Python. "
   ]
  },
  {
   "cell_type": "markdown",
   "metadata": {},
   "source": [
    "11. What advantages do dictionaries offer over lists for certain tasks?\n",
    "\n",
    "Ans. Dictionaries offer several advantages over lists for certain tasks. They provide fast lookups, insertion, and deletion of elements, making them suitable for applications where data is frequently accessed or modified. Dictionaries also allow for efficient storage and retrieval of key-value pairs, which can be beneficial in scenarios where data is represented as a collection of named values. Additionally, dictionaries can be used to implement hash tables, which are useful for tasks such as caching, indexing and data compression. "
   ]
  },
  {
   "cell_type": "markdown",
   "metadata": {},
   "source": [
    "12. Describe a scenario where using a tuple would be preferable over a list.\n",
    "\n",
    "Ans. A scenario where using a tuple would be preferable over a list is when you need to store a collection of values that should not be modified. Tuples are immutable, which means their values cannot be changed after they are created. This makes them useful for storing data that should not be altered, such as a collection of constants or a set of values that should be treated as a single unit. For example, you might use a tuple to store the dimensions of a rectangle, where the width and height should not be changed once they are set."
   ]
  },
  {
   "cell_type": "markdown",
   "metadata": {},
   "source": [
    "13. How do sets handle duplicate values in Python?\n",
    "\n",
    "Ans. Sets in Python are unordered collection of unique elements. They do not allow duplicate values. If you try to add a duplicate value to a set, it will be ignored. "
   ]
  },
  {
   "cell_type": "markdown",
   "metadata": {},
   "source": [
    "14. How does the “in” keyword work differently for lists and dictionaries?\n",
    "\n",
    "Ans. The \"in\" keyword is used to check if a value exists or not in a data type. For lists , it checks if the value is present in the list. For dictionaries, it checks if the key exists in the dictionary. "
   ]
  },
  {
   "cell_type": "markdown",
   "metadata": {},
   "source": [
    "15. Can you modify the elements of a tuple? Explain why or why not.\n",
    "\n",
    "Ans. No, you cannot modify the elements of a Tuple. Tuples are immutable, meaning that once a tuple is created, its elements cannot be changed."
   ]
  },
  {
   "cell_type": "markdown",
   "metadata": {},
   "source": [
    "16. What is a nested dictionary? Give an example of its use case.\n",
    "\n",
    "Ans. A nested dictionary is a dictionary that contains another dictionary as its value. It is used to represent a hierarchical relationship in the data. For example, a nested dictionary can be used to represent a person's address, where the outer dictionary represents the person and the inner dictionary represents the address."
   ]
  },
  {
   "cell_type": "markdown",
   "metadata": {},
   "source": [
    "17. Describe the time complexity of accessing elements in a dictionary.\n",
    "\n",
    "Ans. The time complexity of using a dictionary is O(1) on average, assuming the hash function is well-distributed. However, in the worst case, it can be O(n) if the hash function is poorly distributed. This is because dictionaries use a hash table to store key-value pairs, and the time complexity of accessing an element in a hash table is O(1) on average, but can be O(n) in the worst case."
   ]
  },
  {
   "cell_type": "markdown",
   "metadata": {},
   "source": [
    "18. In what situations are lists preferred over dictionaries?\n",
    "\n",
    "Ans. Lists are preferred over dictionaries when the order of elements is important, or when the elements are of the same type. Lists are also preferred when the elements are not key-value pairs, but rather a collection of items. For example, when you need to store a list of names, ages, or scores, lists are a better choice. However, when you need to store key-value pairs, dictionaries are a better choice."
   ]
  },
  {
   "cell_type": "markdown",
   "metadata": {},
   "source": [
    "19. Why are dictionaries considered unordered, and how does that affect data retrieval?\n",
    "\n",
    "Ans. Dictionaries are considered unordered because they do not maintain a specific order of keys. This is because dictionaries are implemented as hash tables, which store keys in a way that allows for efficient lookup, insertion, and deletion of key-value pairs. However, this unordered nature can make it difficult to retrieve data in a specific order, such as when iterating over a dictionary. To overcome this, you can use the `dict.items()`, `dict.keys()`, or `dict.values()` methods to retrieve the key-value pairs, keys, or values in a specific order."
   ]
  },
  {
   "cell_type": "markdown",
   "metadata": {},
   "source": [
    "20. Explain the difference between a list and a dictionary in terms of data retrieval.\n",
    "\n",
    "Ans. A list is an ordered collection of items, and you can access an item in a list by its index. A dictionary, on the other hand, is an unordered collection of key-value pairs, and you can access a value in a dictionary by its key. This makes dictionaries more efficient for data retrieval when you need to access items by a specific attribute or identifier. "
   ]
  },
  {
   "cell_type": "markdown",
   "metadata": {},
   "source": [
    "## Practical Questions"
   ]
  },
  {
   "cell_type": "code",
   "execution_count": 1,
   "metadata": {},
   "outputs": [
    {
     "name": "stdout",
     "output_type": "stream",
     "text": [
      "My name is Piyush Mishra\n"
     ]
    }
   ],
   "source": [
    "# 1. Write a code to create a string with your name and print it.\n",
    "\n",
    "name = \"Piyush Mishra\"\n",
    "print(f\"My name is {name}\")"
   ]
  },
  {
   "cell_type": "code",
   "execution_count": 2,
   "metadata": {},
   "outputs": [
    {
     "name": "stdout",
     "output_type": "stream",
     "text": [
      "The length of the string is 11\n"
     ]
    }
   ],
   "source": [
    "# 2. Write a code to find the length of the string `\"Hello World\"`.\n",
    "\n",
    "string = \"Hello World\"\n",
    "print(f\"The length of the string is {len(string)}\")"
   ]
  },
  {
   "cell_type": "code",
   "execution_count": 5,
   "metadata": {},
   "outputs": [
    {
     "name": "stdout",
     "output_type": "stream",
     "text": [
      "Pyt\n"
     ]
    }
   ],
   "source": [
    "# 3. Write a code to slice the first 3 characters from the string `\"Python Programming\"`.\n",
    "\n",
    "string = \"Python Programming\"\n",
    "first_three_chars = string[:3]\n",
    "print(first_three_chars)"
   ]
  },
  {
   "cell_type": "code",
   "execution_count": 6,
   "metadata": {},
   "outputs": [
    {
     "name": "stdout",
     "output_type": "stream",
     "text": [
      "HELLO\n"
     ]
    }
   ],
   "source": [
    "# 4. Write a code to convert the string `\"hello\"` to uppercase.\n",
    "\n",
    "string = \"hello\"\n",
    "print(string.upper())"
   ]
  },
  {
   "cell_type": "code",
   "execution_count": 7,
   "metadata": {},
   "outputs": [
    {
     "name": "stdout",
     "output_type": "stream",
     "text": [
      "I like orange\n"
     ]
    }
   ],
   "source": [
    "# 5. Write a code to replace the word `\"apple\"` with `\"orange\"` in the string `\"I like apple\"`.\n",
    "\n",
    "string = \"I like apple\"\n",
    "string = string.replace(\"apple\", \"orange\")\n",
    "print(string)"
   ]
  },
  {
   "cell_type": "code",
   "execution_count": 9,
   "metadata": {},
   "outputs": [
    {
     "name": "stdout",
     "output_type": "stream",
     "text": [
      "[1, 2, 3, 4, 5]\n"
     ]
    }
   ],
   "source": [
    "# 6. Write a code to create a list with numbers 1 to 5 and print it.\n",
    "\n",
    "list = list(range(1,6))\n",
    "print(list)"
   ]
  },
  {
   "cell_type": "code",
   "execution_count": 10,
   "metadata": {},
   "outputs": [
    {
     "name": "stdout",
     "output_type": "stream",
     "text": [
      "[1, 2, 3, 4, 10]\n"
     ]
    }
   ],
   "source": [
    "# 7. Write a code to append the number `10` to the list `[1, 2, 3, 4]`.\n",
    "\n",
    "list = [1, 2, 3, 4]\n",
    "list.append(10)\n",
    "print(list)"
   ]
  },
  {
   "cell_type": "code",
   "execution_count": 11,
   "metadata": {},
   "outputs": [
    {
     "name": "stdout",
     "output_type": "stream",
     "text": [
      "[1, 2, 4, 5]\n"
     ]
    }
   ],
   "source": [
    "# 8. Write a code to remove the number `3` from the list `[1, 2, 3, 4, 5]`.\n",
    "\n",
    "list = [1, 2, 3, 4, 5]\n",
    "list.remove(3)\n",
    "print(list)"
   ]
  },
  {
   "cell_type": "code",
   "execution_count": 12,
   "metadata": {},
   "outputs": [
    {
     "name": "stdout",
     "output_type": "stream",
     "text": [
      "b\n"
     ]
    }
   ],
   "source": [
    "# 9. Write a code to access the second element in the list `['a', 'b', 'c', 'd']`.\n",
    "\n",
    "list = ['a', 'b', 'c', 'd']\n",
    "print(list[1])"
   ]
  },
  {
   "cell_type": "code",
   "execution_count": 14,
   "metadata": {},
   "outputs": [
    {
     "name": "stdout",
     "output_type": "stream",
     "text": [
      "[50, 40, 30, 20, 10]\n"
     ]
    }
   ],
   "source": [
    "# 10. Write a code to reverse the list `[10, 20, 30, 40, 50]`.\n",
    "\n",
    "list = [10, 20, 30, 40, 50]\n",
    "list.reverse()\n",
    "print(list)"
   ]
  },
  {
   "cell_type": "code",
   "execution_count": 15,
   "metadata": {},
   "outputs": [
    {
     "name": "stdout",
     "output_type": "stream",
     "text": [
      "(100, 200, 300)\n"
     ]
    }
   ],
   "source": [
    "# 11. Write a code to create a tuple with the elements `100, 200, 300` and print it.\n",
    "\n",
    "tuple = (100, 200, 300)\n",
    "print(tuple)"
   ]
  },
  {
   "cell_type": "code",
   "execution_count": 16,
   "metadata": {},
   "outputs": [
    {
     "name": "stdout",
     "output_type": "stream",
     "text": [
      "blue\n"
     ]
    }
   ],
   "source": [
    "# 12. Write a code to access the second-to-last element of the tuple `('red', 'green', 'blue', 'yellow')`.\n",
    "\n",
    "tuple = ('red', 'green', 'blue', 'yellow')\n",
    "print(tuple[-2])"
   ]
  },
  {
   "cell_type": "code",
   "execution_count": 17,
   "metadata": {},
   "outputs": [
    {
     "name": "stdout",
     "output_type": "stream",
     "text": [
      "5\n"
     ]
    }
   ],
   "source": [
    "# 13. Write a code to find the minimum number in the tuple `(10, 20, 5, 15)`.\n",
    "\n",
    "tuple = (10, 20, 5, 15)\n",
    "print(min(tuple))"
   ]
  },
  {
   "cell_type": "code",
   "execution_count": 18,
   "metadata": {},
   "outputs": [
    {
     "name": "stdout",
     "output_type": "stream",
     "text": [
      "1\n"
     ]
    }
   ],
   "source": [
    "# 14. Write a code to find the index of the element `\"cat\"` in the tuple `('dog', 'cat', 'rabbit')`.\n",
    "\n",
    "tuple = ('dog', 'cat', 'rabbit')\n",
    "print(tuple.index('cat'))"
   ]
  },
  {
   "cell_type": "code",
   "execution_count": 19,
   "metadata": {},
   "outputs": [
    {
     "name": "stdout",
     "output_type": "stream",
     "text": [
      "False\n"
     ]
    }
   ],
   "source": [
    "# 15. Write a code to create a tuple containing three different fruits and check if `\"kiwi\"` is in it.\n",
    "\n",
    "tuple = ('apple', 'banana', 'orange')\n",
    "print('kiwi' in tuple)\n"
   ]
  },
  {
   "cell_type": "code",
   "execution_count": 23,
   "metadata": {},
   "outputs": [
    {
     "name": "stdout",
     "output_type": "stream",
     "text": [
      "{'a', 'c', 'b'}\n"
     ]
    }
   ],
   "source": [
    "# 16. Write a code to create a set with the elements `'a', 'b', 'c'` and print it.\n",
    "\n",
    "set = {'a', 'b', 'c'}\n",
    "print(set)"
   ]
  },
  {
   "cell_type": "code",
   "execution_count": 25,
   "metadata": {},
   "outputs": [
    {
     "name": "stdout",
     "output_type": "stream",
     "text": [
      "set()\n"
     ]
    }
   ],
   "source": [
    "# 17. Write a code to clear all elements from the set `{1, 2, 3, 4, 5}`.\n",
    "\n",
    "set = {1, 2, 3, 4, 5}\n",
    "set.clear()\n",
    "print(set)"
   ]
  },
  {
   "cell_type": "code",
   "execution_count": 27,
   "metadata": {},
   "outputs": [
    {
     "name": "stdout",
     "output_type": "stream",
     "text": [
      "{1, 2, 3}\n"
     ]
    }
   ],
   "source": [
    "# 18. Write a code to remove the element `4` from the set `{1, 2, 3, 4}`.\n",
    "\n",
    "set = {1, 2, 3, 4}\n",
    "set.remove(4)\n",
    "print(set)"
   ]
  },
  {
   "cell_type": "code",
   "execution_count": 29,
   "metadata": {},
   "outputs": [
    {
     "name": "stdout",
     "output_type": "stream",
     "text": [
      "{1, 2, 3, 4, 5}\n"
     ]
    }
   ],
   "source": [
    "# 19. Write a code to find the union of two sets `{1, 2, 3}` and `{3, 4, 5}`.\n",
    "\n",
    "set1 = {1, 2, 3}\n",
    "set2 = {3, 4, 5}\n",
    "union = set1.union(set2)\n",
    "print(union)"
   ]
  },
  {
   "cell_type": "code",
   "execution_count": 30,
   "metadata": {},
   "outputs": [
    {
     "name": "stdout",
     "output_type": "stream",
     "text": [
      "{2, 3}\n"
     ]
    }
   ],
   "source": [
    "# 20. Write a code to find the intersection of two sets `{1, 2, 3}` and `{2, 3, 4}`.\n",
    "\n",
    "set1 = {1, 2, 3}\n",
    "set2 = {2, 3, 4}\n",
    "intersection = set1.intersection(set2)\n",
    "print(intersection)"
   ]
  },
  {
   "cell_type": "code",
   "execution_count": 33,
   "metadata": {},
   "outputs": [
    {
     "name": "stdout",
     "output_type": "stream",
     "text": [
      "{'name': 'Piyush Mishra', 'age': '23', 'city': 'Lucknow'}\n"
     ]
    }
   ],
   "source": [
    "# 21. Write a code to create a dictionary with the keys `\"name\"`, `\"age\"`, and `\"city\"`, and print it.\n",
    "\n",
    "dictionary = {\"name\": \"Piyush Mishra\", \"age\": \"23\", \"city\": \"Lucknow\"}\n",
    "print(dictionary)"
   ]
  },
  {
   "cell_type": "code",
   "execution_count": 34,
   "metadata": {},
   "outputs": [
    {
     "name": "stdout",
     "output_type": "stream",
     "text": [
      "{'name': 'John', 'age': 25, 'country': 'USA'}\n"
     ]
    }
   ],
   "source": [
    "# 22. Write a code to add a new key-value pair `\"country\": \"USA\"` to the dictionary `{'name': 'John', 'age': 25}`.\n",
    "\n",
    "dictionary = {'name': 'John', 'age': 25}\n",
    "dictionary['country'] = 'USA'\n",
    "print(dictionary)"
   ]
  },
  {
   "cell_type": "code",
   "execution_count": 35,
   "metadata": {},
   "outputs": [
    {
     "name": "stdout",
     "output_type": "stream",
     "text": [
      "Alice\n"
     ]
    }
   ],
   "source": [
    "# 23. Write a code to access the value associated with the key `\"name\"` in the dictionary `{'name': 'Alice', 'age': 30}`.\n",
    "\n",
    "dictionary = {'name': 'Alice', 'age': 30}\n",
    "key = 'name'\n",
    "print(dictionary[key])"
   ]
  },
  {
   "cell_type": "code",
   "execution_count": 36,
   "metadata": {},
   "outputs": [
    {
     "name": "stdout",
     "output_type": "stream",
     "text": [
      "{'name': 'Bob', 'city': 'New York'}\n"
     ]
    }
   ],
   "source": [
    "# 24. Write a code to remove the key `\"age\"` from the dictionary `{'name': 'Bob', 'age': 22, 'city': 'New York'}`.\n",
    "\n",
    "dictionary = {'name': 'Bob', 'age': 22, 'city': 'New York'}\n",
    "dictionary.pop('age')\n",
    "print(dictionary)"
   ]
  },
  {
   "cell_type": "code",
   "execution_count": 37,
   "metadata": {},
   "outputs": [
    {
     "name": "stdout",
     "output_type": "stream",
     "text": [
      "True\n"
     ]
    }
   ],
   "source": [
    "# 25. Write a code to check if the key `\"city\"` exists in the dictionary `{'name': 'Alice', 'city': 'Paris'}`.\n",
    "\n",
    "dictionary = {'name': 'Alice', 'city': 'Paris'}\n",
    "key = \"city\"\n",
    "print(key in dictionary)"
   ]
  },
  {
   "cell_type": "code",
   "execution_count": 38,
   "metadata": {},
   "outputs": [
    {
     "name": "stdout",
     "output_type": "stream",
     "text": [
      "[1, 2, 3]\n",
      "(1, 2, 3)\n",
      "{'name': 'Piyush Mishra', 'age': '23', 'city': 'Lucknow'}\n"
     ]
    }
   ],
   "source": [
    "# 26. Write a code to create a list, a tuple, and a dictionary, and print them all.\n",
    "\n",
    "list = [1, 2, 3]\n",
    "tuple = (1, 2, 3)\n",
    "dictionary = {\"name\": \"Piyush Mishra\", \"age\": \"23\", \"city\": \"Lucknow\"}\n",
    "print(list)\n",
    "print(tuple)\n",
    "print(dictionary)"
   ]
  },
  {
   "cell_type": "code",
   "execution_count": 39,
   "metadata": {},
   "outputs": [
    {
     "name": "stdout",
     "output_type": "stream",
     "text": [
      "[25, 30, 39, 59, 96]\n"
     ]
    }
   ],
   "source": [
    "# 27. Write a code to create a list of 5 random numbers between 1 and 100, sort it in ascending order, and print the result.\n",
    "\n",
    "import random\n",
    "list = [random.randint(1, 100) for i in range(5) ]\n",
    "list.sort()\n",
    "print(list)"
   ]
  },
  {
   "cell_type": "code",
   "execution_count": 40,
   "metadata": {},
   "outputs": [
    {
     "name": "stdout",
     "output_type": "stream",
     "text": [
      "kiwi\n"
     ]
    }
   ],
   "source": [
    "# 28. Write a code to create a list with strings and print the element at the third index.\n",
    "\n",
    "list = [\"apple\", \"banana\", \"orange\", \"kiwi\"]\n",
    "print(list[3])"
   ]
  },
  {
   "cell_type": "code",
   "execution_count": 41,
   "metadata": {},
   "outputs": [
    {
     "name": "stdout",
     "output_type": "stream",
     "text": [
      "{'name': 'Piyush Mishra', 'age': '23', 'city': 'Lucknow', 'country': 'India'}\n"
     ]
    }
   ],
   "source": [
    "# 29. Write a code to combine two dictionaries into one and print the result.\n",
    "\n",
    "dict1 = {\"name\": \"Piyush Mishra\", \"age\": \"23\"}\n",
    "dict2 = {\"city\": \"Lucknow\", \"country\": \"India\"}\n",
    "dict1.update(dict2)\n",
    "print(dict1)"
   ]
  },
  {
   "cell_type": "code",
   "execution_count": 44,
   "metadata": {},
   "outputs": [
    {
     "name": "stdout",
     "output_type": "stream",
     "text": [
      "{'banana', 'apple', 'orange', 'kiwi'}\n"
     ]
    }
   ],
   "source": [
    "# 30. Write a code to convert a list of strings into a set.\n",
    "\n",
    "string_list = [\"apple\", \"banana\", \"orange\", \"kiwi\"]\n",
    "string_set = {item for item in string_list}\n",
    "print(string_set)"
   ]
  }
 ],
 "metadata": {
  "kernelspec": {
   "display_name": "Python 3",
   "language": "python",
   "name": "python3"
  },
  "language_info": {
   "codemirror_mode": {
    "name": "ipython",
    "version": 3
   },
   "file_extension": ".py",
   "mimetype": "text/x-python",
   "name": "python",
   "nbconvert_exporter": "python",
   "pygments_lexer": "ipython3",
   "version": "3.12.3"
  }
 },
 "nbformat": 4,
 "nbformat_minor": 2
}
