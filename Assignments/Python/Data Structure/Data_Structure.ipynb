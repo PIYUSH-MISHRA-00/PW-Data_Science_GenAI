{
 "cells": [
  {
   "cell_type": "markdown",
   "metadata": {},
   "source": [
    "# Data Types and Structures Assignment Questions\n",
    "\n",
    "## Theoretical Questions\n",
    "1. What are data structures, and why are they important?\n",
    "2. Explain the difference between mutable and immutable data types with examples.\n",
    "3. What are the main differences between lists and tuples in Python?\n",
    "4. Describe how dictionaries store data.\n",
    "5. Why might you use a set instead of a list in Python?\n",
    "6. What is a string in Python, and how is it different from a list?\n",
    "7. How do tuples ensure data integrity in Python?\n",
    "8. What is a hash table, and how does it relate to dictionaries in Python?\n",
    "9. Can lists contain different data types in Python?\n",
    "10. Explain why strings are immutable in Python.\n",
    "11. What advantages do dictionaries offer over lists for certain tasks?\n",
    "12. Describe a scenario where using a tuple would be preferable over a list.\n",
    "13. How do sets handle duplicate values in Python?\n",
    "14. How does the “in” keyword work differently for lists and dictionaries?\n",
    "15. Can you modify the elements of a tuple? Explain why or why not.\n",
    "16. What is a nested dictionary? Give an example of its use case.\n",
    "17. Describe the time complexity of accessing elements in a dictionary.\n",
    "18. In what situations are lists preferred over dictionaries?\n",
    "19. Why are dictionaries considered unordered, and how does that affect data retrieval?\n",
    "20. Explain the difference between a list and a dictionary in terms of data retrieval."
   ]
  },
  {
   "cell_type": "markdown",
   "metadata": {},
   "source": [
    "## Practical Questions\n",
    "1. Write a code to create a string with your name and print it.\n",
    "2. Write a code to find the length of the string `\"Hello World\"`.\n",
    "3. Write a code to slice the first 3 characters from the string `\"Python Programming\"`.\n",
    "4. Write a code to convert the string `\"hello\"` to uppercase.\n",
    "5. Write a code to replace the word `\"apple\"` with `\"orange\"` in the string `\"I like apple\"`.\n",
    "6. Write a code to create a list with numbers 1 to 5 and print it.\n",
    "7. Write a code to append the number `10` to the list `[1, 2, 3, 4]`.\n",
    "8. Write a code to remove the number `3` from the list `[1, 2, 3, 4, 5]`.\n",
    "9. Write a code to access the second element in the list `['a', 'b', 'c', 'd']`.\n",
    "10. Write a code to reverse the list `[10, 20, 30, 40, 50]`.\n",
    "11. Write a code to create a tuple with the elements `100, 200, 300` and print it.\n",
    "12. Write a code to access the second-to-last element of the tuple `('red', 'green', 'blue', 'yellow')`.\n",
    "13. Write a code to find the minimum number in the tuple `(10, 20, 5, 15)`.\n",
    "14. Write a code to find the index of the element `\"cat\"` in the tuple `('dog', 'cat', 'rabbit')`.\n",
    "15. Write a code to create a tuple containing three different fruits and check if `\"kiwi\"` is in it.\n",
    "16. Write a code to create a set with the elements `'a', 'b', 'c'` and print it.\n",
    "17. Write a code to clear all elements from the set `{1, 2, 3, 4, 5}`.\n",
    "18. Write a code to remove the element `4` from the set `{1, 2, 3, 4}`.\n",
    "19. Write a code to find the union of two sets `{1, 2, 3}` and `{3, 4, 5}`.\n",
    "20. Write a code to find the intersection of two sets `{1, 2, 3}` and `{2, 3, 4}`.\n",
    "21. Write a code to create a dictionary with the keys `\"name\"`, `\"age\"`, and `\"city\"`, and print it.\n",
    "22. Write a code to add a new key-value pair `\"country\": \"USA\"` to the dictionary `{'name': 'John', 'age': 25}`.\n",
    "23. Write a code to access the value associated with the key `\"name\"` in the dictionary `{'name': 'Alice', 'age': 30}`.\n",
    "24. Write a code to remove the key `\"age\"` from the dictionary `{'name': 'Bob', 'age': 22, 'city': 'New York'}`.\n",
    "25. Write a code to check if the key `\"city\"` exists in the dictionary `{'name': 'Alice', 'city': 'Paris'}`.\n",
    "26. Write a code to create a list, a tuple, and a dictionary, and print them all.\n",
    "27. Write a code to create a list of 5 random numbers between 1 and 100, sort it in ascending order, and print the result.\n",
    "28. Write a code to create a list with strings and print the element at the third index.\n",
    "29. Write a code to combine two dictionaries into one and print the result.\n",
    "30. Write a code to convert a list of strings into a set."
   ]
  }
 ],
 "metadata": {
  "language_info": {
   "name": "python"
  }
 },
 "nbformat": 4,
 "nbformat_minor": 2
}
