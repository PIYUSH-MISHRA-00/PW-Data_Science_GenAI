{
 "cells": [
  {
   "cell_type": "markdown",
   "metadata": {},
   "source": [
    "# Python Basics Assignment Questions\n",
    "\n",
    "## Theoretical Questions\n",
    "\n",
    "1. What is Python, and why is it popular?\n",
    "2. What is an interpreter in Python?\n",
    "3. What are pre-defined keywords in Python?\n",
    "4. Can keywords be used as variable names?\n",
    "5. What is mutability in Python?\n",
    "6. Why are lists mutable, but tuples are immutable?\n",
    "7. What is the difference between `==` and `is` operators in Python?\n",
    "8. What are logical operators in Python?\n",
    "9. What is type casting in Python?\n",
    "10. What is the difference between implicit and explicit type casting?\n",
    "11. What is the purpose of conditional statements in Python?\n",
    "12. How does the `elif` statement work?\n",
    "13. What is the difference between `for` and `while` loops?\n",
    "14. Describe a scenario where a `while` loop is more suitable than a `for` loop."
   ]
  },
  {
   "cell_type": "markdown",
   "metadata": {},
   "source": [
    "## Practical Questions\n",
    "\n",
    "1. Write a Python program to print `\"Hello, World!\"`\n",
    "2. Write a Python program that displays your name and age.\n",
    "3. Write code to print all the pre-defined keywords in Python using the `keyword` library.\n",
    "4. Write a program that checks if a given word is a Python keyword.\n",
    "5. Create a list and tuple in Python, and demonstrate how attempting to change an element works differently for each.\n",
    "6. Write a function to demonstrate the behavior of mutable and immutable arguments.\n",
    "7. Write a program that performs basic arithmetic operations on two user-input numbers.\n",
    "8. Write a program to demonstrate the use of logical operators.\n",
    "9. Write a Python program to convert user input from string to integer, float, and boolean types.\n",
    "10. Write code to demonstrate type casting with list elements.\n",
    "11. Write a program that checks if a number is positive, negative, or zero.\n",
    "12. Write a `for` loop to print numbers from 1 to 10.\n",
    "13. Write a Python program to find the sum of all even numbers between 1 and 50.\n",
    "14. Write a program to reverse a string using a `while` loop.\n",
    "15. Write a Python program to calculate the factorial of a number provided by the user using a `while` loop.\n"
   ]
  },
  {
   "cell_type": "markdown",
   "metadata": {},
   "source": [
    "## Theoretical Questions\n",
    "\n",
    "1. What is Python, and why is it popular?\n",
    "\n",
    "Ans. Python is a high-level programming language that is widely used for web-development , data analysis , artificial intelligence and machine learning. It is popular due to its simplicity, readability, and versatility. Python has a vast number of libraries and frameworks that make it an ideal choice for various applications."
   ]
  },
  {
   "cell_type": "markdown",
   "metadata": {},
   "source": [
    "2. What is an interpreter in Python?\n",
    "\n",
    "Ans. An interpreter in Python is a program that excecutes the Python code line by line. It is a software that reads the code and executes it directly without compiling it first into any intermediate form. Python interpreter is the core of the Python environment and is responsible for executing the Python code."
   ]
  },
  {
   "cell_type": "markdown",
   "metadata": {},
   "source": [
    "3. What are pre-defined keywords in Python?\n",
    "\n",
    "Ans. Pre-defined keywords in Python are those words which have a specific meaning in Python and cannot be used as a variable name. Some of the pre-defined keywords in python are : and, as, assert, break, class, continue, def, del, elif, else etc. "
   ]
  },
  {
   "cell_type": "markdown",
   "metadata": {},
   "source": [
    "4. Can keywords be used as variable names?\n",
    "\n",
    "Ans. No, keywords cannot be used as a variable name. Keywords are reserved words in a programming language and are used to define the syntax of the language."
   ]
  },
  {
   "cell_type": "markdown",
   "metadata": {},
   "source": [
    "5. What is mutability in Python?\n",
    "\n",
    "Ans. In Python, mutability is the ability of an item to be changed after it has been created. For example a list in Python can be changed after it has been created so its mutable as its values could be changed whereas a tuple in python is immutable as its values could not be changed."
   ]
  },
  {
   "cell_type": "markdown",
   "metadata": {},
   "source": [
    "6. Why are lists mutable, but tuples are immutable?\n",
    "\n",
    "Ans. In python the values of the list could be changed after it has been created so its called mutable whereas the values of the tuples could not be changed after they are created so they are called as immutable in python."
   ]
  },
  {
   "cell_type": "markdown",
   "metadata": {},
   "source": [
    "7. What is the difference between `==` and `is` operators in Python?\n",
    "\n",
    "Ans. The '==' operator checks for the equality of the values. Whereas 'is' operator is used to check the identity of the objects. It returns True if both variables point to the same object in memory. "
   ]
  },
  {
   "cell_type": "markdown",
   "metadata": {},
   "source": [
    "8. What are logical operators in Python?\n",
    "\n",
    "Ans. Logical operators in Python are used to perform logical operations on variables. They are used to combine multiple conditions in a single statement. The logical operator in Python are: AND, OR, NOT."
   ]
  },
  {
   "cell_type": "markdown",
   "metadata": {},
   "source": [
    "9. What is type casting in Python?\n",
    "\n",
    "Ans. Type casting in python refers to the process of converting one data type into another. For example coverting an integer into string and vice-versa. Python has built-in functions to perform type casting."
   ]
  },
  {
   "cell_type": "markdown",
   "metadata": {},
   "source": [
    "10. What is the difference between implicit and explicit type casting?\n",
    "\n",
    "Ans. Implicit type casting, is the process of converting one data type to another without using any casting operator. It is done by the compiler automatically. For example when we assign an integer value to a float variable than the compiler automatically converts the integer into float value. Explicit type casting is the process of converting one data type to another using casting operator. For example when we assign a float value to an integer variable than we have to use casting operator to convert the float value into integer value."
   ]
  },
  {
   "cell_type": "markdown",
   "metadata": {},
   "source": [
    "11. What is the purpose of conditional statements in Python?\n",
    "\n",
    "Ans. Conditional statements in Python are used to execute certain blocks of the code based on the condition. They are used to make the decision in programs. "
   ]
  },
  {
   "cell_type": "markdown",
   "metadata": {},
   "source": [
    "12. How does the `elif` statement work?\n",
    "\n",
    "Ans. The `elif` statement is used to check if the condition is true and if true, it will excecute the code inside the elif block. If the condition is false, it will check the other conditions and so on. If none of the conditions are true, it will execute the code inside the else block."
   ]
  },
  {
   "cell_type": "markdown",
   "metadata": {},
   "source": [
    "13. What is the difference between `for` and `while` loops?\n",
    "\n",
    "Ans. `for` is used to iterate over a sequence (like a list or a string) and `while` is used to excecute a block of code until a certain condition is met. "
   ]
  },
  {
   "cell_type": "markdown",
   "metadata": {},
   "source": [
    "14. Describe a scenario where a `while` loop is more suitable than a `for` loop.\n",
    "\n",
    "Ans. A `while` loop is more suitable than a `for` loop when the number of iterations is not fixed or known in advance. For example, when reading input from a user until a specific condition is met, a `while` loop is more appropriate. In contrast, a `for` loop is better suited for situations where the number of iterations is fixed and known beforehand."
   ]
  },
  {
   "cell_type": "markdown",
   "metadata": {},
   "source": [
    "## Practical Questions"
   ]
  },
  {
   "cell_type": "code",
   "execution_count": 1,
   "metadata": {},
   "outputs": [
    {
     "name": "stdout",
     "output_type": "stream",
     "text": [
      "Hello, World!\n"
     ]
    }
   ],
   "source": [
    "# 1. Write a Python program to print `\"Hello, World!\"`\n",
    "\n",
    "print(\"Hello, World!\")"
   ]
  },
  {
   "cell_type": "code",
   "execution_count": 2,
   "metadata": {},
   "outputs": [
    {
     "name": "stdout",
     "output_type": "stream",
     "text": [
      "My name is Piyush Mishra and I am 23 years old.\n"
     ]
    }
   ],
   "source": [
    "# 2. Write a Python program that displays your name and age.\n",
    "\n",
    "name=\"Piyush Mishra\"\n",
    "age=23\n",
    "print(f\"My name is {name} and I am {age} years old.\")"
   ]
  },
  {
   "cell_type": "code",
   "execution_count": 3,
   "metadata": {},
   "outputs": [
    {
     "name": "stdout",
     "output_type": "stream",
     "text": [
      "['False', 'None', 'True', 'and', 'as', 'assert', 'async', 'await', 'break', 'class', 'continue', 'def', 'del', 'elif', 'else', 'except', 'finally', 'for', 'from', 'global', 'if', 'import', 'in', 'is', 'lambda', 'nonlocal', 'not', 'or', 'pass', 'raise', 'return', 'try', 'while', 'with', 'yield']\n"
     ]
    }
   ],
   "source": [
    "# 3. Write code to print all the pre-defined keywords in Python using the `keyword` library.\n",
    "\n",
    "import keyword\n",
    "print(keyword.kwlist)"
   ]
  },
  {
   "cell_type": "code",
   "execution_count": 3,
   "metadata": {},
   "outputs": [
    {
     "name": "stdout",
     "output_type": "stream",
     "text": [
      "def is a Python keyword.\n"
     ]
    }
   ],
   "source": [
    "# 4. Write a program that checks if a given word is a Python keyword.\n",
    "\n",
    "import keyword\n",
    "word = input(\"Enter a word: \")\n",
    "if word in keyword.kwlist:\n",
    "    print(f\"{word} is a Python keyword.\")\n",
    "else:\n",
    "    print(f\"{word} is not a Python keyword.\")"
   ]
  },
  {
   "cell_type": "code",
   "execution_count": 4,
   "metadata": {},
   "outputs": [
    {
     "name": "stdout",
     "output_type": "stream",
     "text": [
      "Original list: [1, 2, 3, 4, 5]\n",
      "Modified list: [1, 2, 6, 4, 5]\n",
      "Original tuple: (1, 2, 3, 4, 5)\n",
      "'tuple' object does not support item assignment\n"
     ]
    }
   ],
   "source": [
    "# 5. Create a list and tuple in Python, and demonstrate how attempting to change an element works differently for each.\n",
    "\n",
    "# List\n",
    "\n",
    "list1 = [1, 2, 3, 4, 5]\n",
    "print(\"Original list:\", list1)\n",
    "list1[2] = 6\n",
    "print(\"Modified list:\", list1)\n",
    "\n",
    "# Tuple\n",
    "\n",
    "tuple1 = (1, 2, 3, 4, 5)\n",
    "print(\"Original tuple:\", tuple1)\n",
    "try:\n",
    "    tuple1[2] = 6\n",
    "except Exception as e:\n",
    "    print(e)\n",
    "    \n"
   ]
  },
  {
   "cell_type": "code",
   "execution_count": 6,
   "metadata": {},
   "outputs": [
    {
     "name": "stdout",
     "output_type": "stream",
     "text": [
      "Original list: [1, 2, 6, 4, 5]\n",
      "Modified list: [100, 2, 6, 4, 5]\n",
      "Original tuple: (1, 2, 3, 4, 5)\n",
      "Attempt to modify tuple: 'tuple' object does not support item assignment\n"
     ]
    }
   ],
   "source": [
    "# 6. Write a function to demonstrate the behavior of mutable and immutable arguments.\n",
    "\n",
    "def change_list(list1):\n",
    "    list1[0] = 100\n",
    "    return list1\n",
    "\n",
    "def change_tuple(tuple1):\n",
    "    try:\n",
    "        tuple1[0] = 100\n",
    "    except TypeError as e:\n",
    "        return str(e)\n",
    "\n",
    "# Demonstrate the behavior\n",
    "list1 = [1, 2, 6, 4, 5]\n",
    "tuple1 = (1, 2, 3, 4, 5)\n",
    "\n",
    "print(\"Original list:\", list1)\n",
    "print(\"Modified list:\", change_list(list1))\n",
    "\n",
    "print(\"Original tuple:\", tuple1)\n",
    "print(\"Attempt to modify tuple:\", change_tuple(tuple1))"
   ]
  },
  {
   "cell_type": "code",
   "execution_count": 7,
   "metadata": {},
   "outputs": [
    {
     "name": "stdout",
     "output_type": "stream",
     "text": [
      "Addition: 50.0\n"
     ]
    }
   ],
   "source": [
    "# 7. Write a program that performs basic arithmetic operations on two user-input numbers.\n",
    "\n",
    "num1 = float(input(\"Enter the first number: \"))\n",
    "num2 = float(input(\"Enter the second number: \"))\n",
    "print(f\"Addition: {num1 + num2}\")\n"
   ]
  },
  {
   "cell_type": "code",
   "execution_count": 8,
   "metadata": {},
   "outputs": [
    {
     "name": "stdout",
     "output_type": "stream",
     "text": [
      "a > b and a > c :  False\n"
     ]
    }
   ],
   "source": [
    "# 8. Write a program to demonstrate the use of logical operators.\n",
    "\n",
    "a = 10\n",
    "b = 20\n",
    "c = 30\n",
    "print(\"a > b and a > c : \", (a > b) and (a > c))"
   ]
  },
  {
   "cell_type": "code",
   "execution_count": 10,
   "metadata": {},
   "outputs": [
    {
     "name": "stdout",
     "output_type": "stream",
     "text": [
      "Integer: 11\n",
      "Float: 11.0\n",
      "Boolean: True\n"
     ]
    }
   ],
   "source": [
    "# 9. Write a Python program to convert user input from string to integer, float, and boolean types.\n",
    "user_input = input(\"Enter a value: \")\n",
    "\n",
    "# Convert the input to integer and float\n",
    "int_value = int(user_input)\n",
    "float_value = float(user_input)\n",
    "\n",
    "# For boolean conversion, if the input is explicitly \"True\" or \"False\" (case-insensitive),\n",
    "# use that; otherwise, treat the numeric conversion: 0 as False, non-zero as True.\n",
    "if user_input.lower() in [\"true\", \"false\"]:\n",
    "    bool_value = user_input.lower() == \"true\"\n",
    "else:\n",
    "    bool_value = float_value != 0\n",
    "\n",
    "print(\"Integer:\", int_value)\n",
    "print(\"Float:\", float_value)\n",
    "print(\"Boolean:\", bool_value)"
   ]
  },
  {
   "cell_type": "code",
   "execution_count": 11,
   "metadata": {},
   "outputs": [
    {
     "name": "stdout",
     "output_type": "stream",
     "text": [
      "Original list: [100, 2, 6, 4, 5]\n",
      "List with elements as floats: [100.0, 2.0, 6.0, 4.0, 5.0]\n",
      "List with elements as strings: ['100', '2', '6', '4', '5']\n"
     ]
    }
   ],
   "source": [
    "# 10. Write code to demonstrate type casting with list elements.\n",
    "# Convert each element in list1 to a float and a string to demonstrate type casting with list elements.\n",
    "float_list = [float(x) for x in list1]\n",
    "str_list = [str(x) for x in list1]\n",
    "\n",
    "print(\"Original list:\", list1)\n",
    "print(\"List with elements as floats:\", float_list)\n",
    "print(\"List with elements as strings:\", str_list)"
   ]
  },
  {
   "cell_type": "code",
   "execution_count": 12,
   "metadata": {},
   "outputs": [
    {
     "name": "stdout",
     "output_type": "stream",
     "text": [
      "Negative number.\n"
     ]
    }
   ],
   "source": [
    "# 11. Write a program that checks if a number is positive, negative, or zero.\n",
    "\n",
    "num = float(input(\"Enter a number: \"))\n",
    "if num > 0:\n",
    "    print(\"Positive number.\")\n",
    "elif num < 0:\n",
    "    print(\"Negative number.\")\n",
    "else:\n",
    "    print(\"Zero.\")\n"
   ]
  },
  {
   "cell_type": "code",
   "execution_count": 13,
   "metadata": {},
   "outputs": [
    {
     "name": "stdout",
     "output_type": "stream",
     "text": [
      "1 \n",
      "2 \n",
      "3 \n",
      "4 \n",
      "5 \n",
      "6 \n",
      "7 \n",
      "8 \n",
      "9 \n",
      "10 \n"
     ]
    }
   ],
   "source": [
    "# 12. Write a `for` loop to print numbers from 1 to 10.\n",
    "\n",
    "for i in range(1, 11):\n",
    "    print(i, end=\" \")\n",
    "    print() # Print a newline after each number"
   ]
  },
  {
   "cell_type": "code",
   "execution_count": 14,
   "metadata": {},
   "outputs": [
    {
     "name": "stdout",
     "output_type": "stream",
     "text": [
      "Sum of even numbers between 1 and 50:  650\n"
     ]
    }
   ],
   "source": [
    "# 13. Write a Python program to find the sum of all even numbers between 1 and 50.\n",
    "\n",
    "sum = 0\n",
    "for i in range(2, 51, 2):\n",
    "    sum += i\n",
    "print(\"Sum of even numbers between 1 and 50: \", sum )"
   ]
  },
  {
   "cell_type": "code",
   "execution_count": 15,
   "metadata": {},
   "outputs": [
    {
     "name": "stdout",
     "output_type": "stream",
     "text": [
      "Reversed string: arhsiM hsuyiP\n"
     ]
    }
   ],
   "source": [
    "# 14. Write a program to reverse a string using a `while` loop.\n",
    "\n",
    "string = input(\"Enter a string: \")\n",
    "reversed_string = \"\"\n",
    "i = len(string) - 1\n",
    "while i >= 0:\n",
    "    reversed_string += string[i]\n",
    "    i -= 1\n",
    "print(\"Reversed string:\", reversed_string)"
   ]
  },
  {
   "cell_type": "code",
   "execution_count": 17,
   "metadata": {},
   "outputs": [
    {
     "name": "stdout",
     "output_type": "stream",
     "text": [
      "Factorial of 5: 120\n"
     ]
    }
   ],
   "source": [
    "# 15. Write a Python program to calculate the factorial of a number provided by the user using a `while` loop.\n",
    "\n",
    "num = int(input(\"Enter a number: \"))\n",
    "factorial = 1\n",
    "i = 1\n",
    "while i <= num:\n",
    "    factorial *= i\n",
    "    i += 1\n",
    "print(f\"Factorial of {num}: {factorial}\")"
   ]
  }
 ],
 "metadata": {
  "kernelspec": {
   "display_name": "Python 3",
   "language": "python",
   "name": "python3"
  },
  "language_info": {
   "codemirror_mode": {
    "name": "ipython",
    "version": 3
   },
   "file_extension": ".py",
   "mimetype": "text/x-python",
   "name": "python",
   "nbconvert_exporter": "python",
   "pygments_lexer": "ipython3",
   "version": "3.12.3"
  }
 },
 "nbformat": 4,
 "nbformat_minor": 2
}
