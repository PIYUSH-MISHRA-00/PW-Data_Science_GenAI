{
 "cells": [
  {
   "cell_type": "markdown",
   "id": "e0c6add2",
   "metadata": {},
   "source": [
    "Data Structures:\n",
    "1. Lists\n",
    "2. Tuples\n",
    "3. Sets\n",
    "4. Dictionaries\n",
    "5. Strings"
   ]
  },
  {
   "cell_type": "code",
   "execution_count": 1,
   "id": "837be2f6",
   "metadata": {},
   "outputs": [],
   "source": [
    "x = 6"
   ]
  },
  {
   "cell_type": "code",
   "execution_count": 2,
   "id": "90df21a7",
   "metadata": {},
   "outputs": [
    {
     "data": {
      "text/plain": [
       "int"
      ]
     },
     "execution_count": 2,
     "metadata": {},
     "output_type": "execute_result"
    }
   ],
   "source": [
    "type(x)"
   ]
  },
  {
   "cell_type": "code",
   "execution_count": 3,
   "id": "6cd618fe",
   "metadata": {},
   "outputs": [],
   "source": [
    "mylist = [4,13.4,\"python\",True,'a']"
   ]
  },
  {
   "cell_type": "code",
   "execution_count": 4,
   "id": "9bd0814e",
   "metadata": {},
   "outputs": [],
   "source": [
    "myl2 = list()"
   ]
  },
  {
   "cell_type": "code",
   "execution_count": 5,
   "id": "e8892d9a",
   "metadata": {},
   "outputs": [],
   "source": [
    "myl3 = []"
   ]
  },
  {
   "cell_type": "code",
   "execution_count": 6,
   "id": "f27e5b20",
   "metadata": {},
   "outputs": [
    {
     "data": {
      "text/plain": [
       "list"
      ]
     },
     "execution_count": 6,
     "metadata": {},
     "output_type": "execute_result"
    }
   ],
   "source": [
    "type(myl2)"
   ]
  },
  {
   "cell_type": "code",
   "execution_count": 7,
   "id": "7cef9b03",
   "metadata": {},
   "outputs": [
    {
     "data": {
      "text/plain": [
       "list"
      ]
     },
     "execution_count": 7,
     "metadata": {},
     "output_type": "execute_result"
    }
   ],
   "source": [
    "type(myl3)"
   ]
  },
  {
   "cell_type": "code",
   "execution_count": 8,
   "id": "71916741",
   "metadata": {},
   "outputs": [
    {
     "name": "stdout",
     "output_type": "stream",
     "text": [
      "[]\n"
     ]
    }
   ],
   "source": [
    "print(myl2)"
   ]
  },
  {
   "cell_type": "code",
   "execution_count": 9,
   "id": "6d03890a",
   "metadata": {},
   "outputs": [
    {
     "name": "stdout",
     "output_type": "stream",
     "text": [
      "[]\n"
     ]
    }
   ],
   "source": [
    "print(myl3)"
   ]
  },
  {
   "cell_type": "code",
   "execution_count": 10,
   "id": "277bacb9",
   "metadata": {},
   "outputs": [
    {
     "data": {
      "text/plain": [
       "[4, 13.4, 'python', True, 'a']"
      ]
     },
     "execution_count": 10,
     "metadata": {},
     "output_type": "execute_result"
    }
   ],
   "source": [
    "mylist"
   ]
  },
  {
   "cell_type": "code",
   "execution_count": 11,
   "id": "1625d4c4",
   "metadata": {},
   "outputs": [
    {
     "data": {
      "text/plain": [
       "'python'"
      ]
     },
     "execution_count": 11,
     "metadata": {},
     "output_type": "execute_result"
    }
   ],
   "source": [
    "mylist[2]"
   ]
  },
  {
   "cell_type": "code",
   "execution_count": 12,
   "id": "b14de0be",
   "metadata": {},
   "outputs": [
    {
     "data": {
      "text/plain": [
       "[4, 13.4, 'python', True, 'a']"
      ]
     },
     "execution_count": 12,
     "metadata": {},
     "output_type": "execute_result"
    }
   ],
   "source": [
    "mylist[:]"
   ]
  },
  {
   "cell_type": "code",
   "execution_count": 13,
   "id": "8ba57dc3",
   "metadata": {},
   "outputs": [
    {
     "data": {
      "text/plain": [
       "[4, 13.4, 'python']"
      ]
     },
     "execution_count": 13,
     "metadata": {},
     "output_type": "execute_result"
    }
   ],
   "source": [
    "mylist[:3]"
   ]
  },
  {
   "cell_type": "code",
   "execution_count": 14,
   "id": "26066db4",
   "metadata": {},
   "outputs": [
    {
     "data": {
      "text/plain": [
       "'a'"
      ]
     },
     "execution_count": 14,
     "metadata": {},
     "output_type": "execute_result"
    }
   ],
   "source": [
    "mylist[-1]"
   ]
  },
  {
   "cell_type": "markdown",
   "id": "5a61c2a3",
   "metadata": {},
   "source": [
    "difference between append, extend and insert?"
   ]
  },
  {
   "cell_type": "code",
   "execution_count": 15,
   "id": "5fb85bb9",
   "metadata": {},
   "outputs": [
    {
     "data": {
      "text/plain": [
       "[4, 13.4, 'python', True, 'a']"
      ]
     },
     "execution_count": 15,
     "metadata": {},
     "output_type": "execute_result"
    }
   ],
   "source": [
    "mylist"
   ]
  },
  {
   "cell_type": "code",
   "execution_count": 16,
   "id": "de39efd5",
   "metadata": {},
   "outputs": [],
   "source": [
    "mylist.append(6)"
   ]
  },
  {
   "cell_type": "code",
   "execution_count": 17,
   "id": "eafaa889",
   "metadata": {},
   "outputs": [
    {
     "data": {
      "text/plain": [
       "[4, 13.4, 'python', True, 'a', 6]"
      ]
     },
     "execution_count": 17,
     "metadata": {},
     "output_type": "execute_result"
    }
   ],
   "source": [
    "mylist"
   ]
  },
  {
   "cell_type": "code",
   "execution_count": 18,
   "id": "35a5ca2c",
   "metadata": {},
   "outputs": [],
   "source": [
    "mylist.append([\"b\",\"c\"])"
   ]
  },
  {
   "cell_type": "code",
   "execution_count": 19,
   "id": "75894cf8",
   "metadata": {},
   "outputs": [
    {
     "data": {
      "text/plain": [
       "[4, 13.4, 'python', True, 'a', 6, ['b', 'c']]"
      ]
     },
     "execution_count": 19,
     "metadata": {},
     "output_type": "execute_result"
    }
   ],
   "source": [
    "mylist"
   ]
  },
  {
   "cell_type": "code",
   "execution_count": 20,
   "id": "b0e6c280",
   "metadata": {},
   "outputs": [
    {
     "data": {
      "text/plain": [
       "['b', 'c']"
      ]
     },
     "execution_count": 20,
     "metadata": {},
     "output_type": "execute_result"
    }
   ],
   "source": [
    "mylist[-1]"
   ]
  },
  {
   "cell_type": "code",
   "execution_count": 21,
   "id": "19950f99",
   "metadata": {},
   "outputs": [],
   "source": [
    "mylist.extend([\"python\",\"java\"])"
   ]
  },
  {
   "cell_type": "code",
   "execution_count": 22,
   "id": "eea13b64",
   "metadata": {},
   "outputs": [
    {
     "data": {
      "text/plain": [
       "[4, 13.4, 'python', True, 'a', 6, ['b', 'c'], 'python', 'java']"
      ]
     },
     "execution_count": 22,
     "metadata": {},
     "output_type": "execute_result"
    }
   ],
   "source": [
    "mylist"
   ]
  },
  {
   "cell_type": "code",
   "execution_count": 23,
   "id": "2f75daa9",
   "metadata": {},
   "outputs": [],
   "source": [
    "mylist.insert(1, \"c++\")"
   ]
  },
  {
   "cell_type": "code",
   "execution_count": 24,
   "id": "bbdd739a",
   "metadata": {},
   "outputs": [
    {
     "data": {
      "text/plain": [
       "[4, 'c++', 13.4, 'python', True, 'a', 6, ['b', 'c'], 'python', 'java']"
      ]
     },
     "execution_count": 24,
     "metadata": {},
     "output_type": "execute_result"
    }
   ],
   "source": [
    "mylist"
   ]
  },
  {
   "cell_type": "markdown",
   "id": "d21907ee",
   "metadata": {},
   "source": [
    "remove, pop, del"
   ]
  },
  {
   "cell_type": "code",
   "execution_count": 25,
   "id": "fe2784f9",
   "metadata": {},
   "outputs": [
    {
     "data": {
      "text/plain": [
       "[4, 'c++', 13.4, 'python', True, 'a', 6, ['b', 'c'], 'python', 'java']"
      ]
     },
     "execution_count": 25,
     "metadata": {},
     "output_type": "execute_result"
    }
   ],
   "source": [
    "mylist"
   ]
  },
  {
   "cell_type": "code",
   "execution_count": 26,
   "id": "6ccfec0c",
   "metadata": {},
   "outputs": [],
   "source": [
    "mylist.remove(\"java\")"
   ]
  },
  {
   "cell_type": "code",
   "execution_count": 27,
   "id": "2e689b29",
   "metadata": {},
   "outputs": [
    {
     "data": {
      "text/plain": [
       "[4, 'c++', 13.4, 'python', True, 'a', 6, ['b', 'c'], 'python']"
      ]
     },
     "execution_count": 27,
     "metadata": {},
     "output_type": "execute_result"
    }
   ],
   "source": [
    "mylist"
   ]
  },
  {
   "cell_type": "code",
   "execution_count": 28,
   "id": "f0134da2",
   "metadata": {},
   "outputs": [],
   "source": [
    "mylist.remove(\"python\")"
   ]
  },
  {
   "cell_type": "code",
   "execution_count": 29,
   "id": "043fc38e",
   "metadata": {},
   "outputs": [
    {
     "data": {
      "text/plain": [
       "[4, 'c++', 13.4, True, 'a', 6, ['b', 'c'], 'python']"
      ]
     },
     "execution_count": 29,
     "metadata": {},
     "output_type": "execute_result"
    }
   ],
   "source": [
    "mylist"
   ]
  },
  {
   "cell_type": "code",
   "execution_count": 30,
   "id": "52a58cb9",
   "metadata": {},
   "outputs": [
    {
     "data": {
      "text/plain": [
       "'c++'"
      ]
     },
     "execution_count": 30,
     "metadata": {},
     "output_type": "execute_result"
    }
   ],
   "source": [
    "mylist.pop(1)"
   ]
  },
  {
   "cell_type": "code",
   "execution_count": 31,
   "id": "54713d20",
   "metadata": {},
   "outputs": [
    {
     "data": {
      "text/plain": [
       "[4, 13.4, True, 'a', 6, ['b', 'c'], 'python']"
      ]
     },
     "execution_count": 31,
     "metadata": {},
     "output_type": "execute_result"
    }
   ],
   "source": [
    "mylist"
   ]
  },
  {
   "cell_type": "code",
   "execution_count": 32,
   "id": "ddf20c2c",
   "metadata": {},
   "outputs": [],
   "source": [
    "del mylist[1]"
   ]
  },
  {
   "cell_type": "code",
   "execution_count": 33,
   "id": "7112f12e",
   "metadata": {},
   "outputs": [
    {
     "data": {
      "text/plain": [
       "[4, True, 'a', 6, ['b', 'c'], 'python']"
      ]
     },
     "execution_count": 33,
     "metadata": {},
     "output_type": "execute_result"
    }
   ],
   "source": [
    "mylist"
   ]
  },
  {
   "cell_type": "code",
   "execution_count": 35,
   "id": "0ab0ceaa",
   "metadata": {},
   "outputs": [],
   "source": [
    "myl2 = [1,2]"
   ]
  },
  {
   "cell_type": "code",
   "execution_count": 36,
   "id": "00797152",
   "metadata": {},
   "outputs": [],
   "source": [
    "myl2.clear()"
   ]
  },
  {
   "cell_type": "code",
   "execution_count": 37,
   "id": "f98a9e75",
   "metadata": {},
   "outputs": [
    {
     "data": {
      "text/plain": [
       "[]"
      ]
     },
     "execution_count": 37,
     "metadata": {},
     "output_type": "execute_result"
    }
   ],
   "source": [
    "myl2"
   ]
  },
  {
   "cell_type": "code",
   "execution_count": 38,
   "id": "1bc861fd",
   "metadata": {},
   "outputs": [],
   "source": [
    "myl2 = [1,1,2,2,2]"
   ]
  },
  {
   "cell_type": "code",
   "execution_count": 39,
   "id": "0af253d3",
   "metadata": {},
   "outputs": [
    {
     "data": {
      "text/plain": [
       "2"
      ]
     },
     "execution_count": 39,
     "metadata": {},
     "output_type": "execute_result"
    }
   ],
   "source": [
    "myl2.count(1)"
   ]
  },
  {
   "cell_type": "code",
   "execution_count": 40,
   "id": "bb4ab4ed",
   "metadata": {},
   "outputs": [
    {
     "data": {
      "text/plain": [
       "3"
      ]
     },
     "execution_count": 40,
     "metadata": {},
     "output_type": "execute_result"
    }
   ],
   "source": [
    "myl2.count(2)"
   ]
  },
  {
   "cell_type": "code",
   "execution_count": 41,
   "id": "439d46fc",
   "metadata": {},
   "outputs": [
    {
     "data": {
      "text/plain": [
       "[4, True, 'a', 6, ['b', 'c'], 'python']"
      ]
     },
     "execution_count": 41,
     "metadata": {},
     "output_type": "execute_result"
    }
   ],
   "source": [
    "mylist"
   ]
  },
  {
   "cell_type": "code",
   "execution_count": 42,
   "id": "533f70d0",
   "metadata": {},
   "outputs": [],
   "source": [
    "myc1 = mylist.copy()"
   ]
  },
  {
   "cell_type": "code",
   "execution_count": 43,
   "id": "30ad4fac",
   "metadata": {},
   "outputs": [
    {
     "data": {
      "text/plain": [
       "[4, True, 'a', 6, ['b', 'c'], 'python']"
      ]
     },
     "execution_count": 43,
     "metadata": {},
     "output_type": "execute_result"
    }
   ],
   "source": [
    "myc1"
   ]
  },
  {
   "cell_type": "code",
   "execution_count": 44,
   "id": "9f32e8a7",
   "metadata": {},
   "outputs": [],
   "source": [
    "myc2 = mylist"
   ]
  },
  {
   "cell_type": "code",
   "execution_count": 45,
   "id": "555636c3",
   "metadata": {},
   "outputs": [
    {
     "data": {
      "text/plain": [
       "[4, True, 'a', 6, ['b', 'c'], 'python']"
      ]
     },
     "execution_count": 45,
     "metadata": {},
     "output_type": "execute_result"
    }
   ],
   "source": [
    "myc2"
   ]
  },
  {
   "cell_type": "code",
   "execution_count": 46,
   "id": "8a18fa17",
   "metadata": {},
   "outputs": [
    {
     "data": {
      "text/plain": [
       "[4, True, 'a', 6, ['b', 'c'], 'python']"
      ]
     },
     "execution_count": 46,
     "metadata": {},
     "output_type": "execute_result"
    }
   ],
   "source": [
    "mylist"
   ]
  },
  {
   "cell_type": "code",
   "execution_count": 47,
   "id": "26f7354b",
   "metadata": {},
   "outputs": [],
   "source": [
    "mylist.append(7)"
   ]
  },
  {
   "cell_type": "code",
   "execution_count": 48,
   "id": "ae6bb97c",
   "metadata": {},
   "outputs": [
    {
     "data": {
      "text/plain": [
       "[4, True, 'a', 6, ['b', 'c'], 'python', 7]"
      ]
     },
     "execution_count": 48,
     "metadata": {},
     "output_type": "execute_result"
    }
   ],
   "source": [
    "mylist"
   ]
  },
  {
   "cell_type": "code",
   "execution_count": 49,
   "id": "27741e6f",
   "metadata": {},
   "outputs": [
    {
     "data": {
      "text/plain": [
       "[4, True, 'a', 6, ['b', 'c'], 'python']"
      ]
     },
     "execution_count": 49,
     "metadata": {},
     "output_type": "execute_result"
    }
   ],
   "source": [
    "myc1 #with copy ()"
   ]
  },
  {
   "cell_type": "code",
   "execution_count": 50,
   "id": "17b9789b",
   "metadata": {},
   "outputs": [
    {
     "data": {
      "text/plain": [
       "[4, True, 'a', 6, ['b', 'c'], 'python', 7]"
      ]
     },
     "execution_count": 50,
     "metadata": {},
     "output_type": "execute_result"
    }
   ],
   "source": [
    "myc2"
   ]
  },
  {
   "cell_type": "code",
   "execution_count": 51,
   "id": "fb28f95b",
   "metadata": {},
   "outputs": [
    {
     "data": {
      "text/plain": [
       "[4, True, 'a', 6, ['b', 'c'], 'python', 7]"
      ]
     },
     "execution_count": 51,
     "metadata": {},
     "output_type": "execute_result"
    }
   ],
   "source": [
    "mylist"
   ]
  },
  {
   "cell_type": "code",
   "execution_count": 52,
   "id": "a44dadbc",
   "metadata": {},
   "outputs": [
    {
     "data": {
      "text/plain": [
       "6"
      ]
     },
     "execution_count": 52,
     "metadata": {},
     "output_type": "execute_result"
    }
   ],
   "source": [
    "mylist.index(7)"
   ]
  },
  {
   "cell_type": "code",
   "execution_count": 57,
   "id": "6306c462",
   "metadata": {},
   "outputs": [],
   "source": [
    "mylist1 = [\"d\",\"c\"]\n",
    "mylist2 = [\"a\",\"b\"]"
   ]
  },
  {
   "cell_type": "code",
   "execution_count": 58,
   "id": "af167de4",
   "metadata": {},
   "outputs": [
    {
     "data": {
      "text/plain": [
       "['d', 'c', 'a', 'b']"
      ]
     },
     "execution_count": 58,
     "metadata": {},
     "output_type": "execute_result"
    }
   ],
   "source": [
    "mylist1 + mylist2"
   ]
  },
  {
   "cell_type": "code",
   "execution_count": 59,
   "id": "da77f00f",
   "metadata": {},
   "outputs": [
    {
     "data": {
      "text/plain": [
       "['d', 'c']"
      ]
     },
     "execution_count": 59,
     "metadata": {},
     "output_type": "execute_result"
    }
   ],
   "source": [
    "mylist1"
   ]
  },
  {
   "cell_type": "code",
   "execution_count": 61,
   "id": "697a161f",
   "metadata": {},
   "outputs": [
    {
     "data": {
      "text/plain": [
       "['d', 'c', 'd', 'c', 'd', 'c']"
      ]
     },
     "execution_count": 61,
     "metadata": {},
     "output_type": "execute_result"
    }
   ],
   "source": [
    "mylist1*3"
   ]
  },
  {
   "cell_type": "code",
   "execution_count": 62,
   "id": "38d81815",
   "metadata": {},
   "outputs": [],
   "source": [
    "mylist2 = [1,2]"
   ]
  },
  {
   "cell_type": "code",
   "execution_count": 63,
   "id": "ebb5ae09",
   "metadata": {},
   "outputs": [
    {
     "data": {
      "text/plain": [
       "[1, 2, 1, 2, 1, 2]"
      ]
     },
     "execution_count": 63,
     "metadata": {},
     "output_type": "execute_result"
    }
   ],
   "source": [
    "mylist2*3"
   ]
  },
  {
   "cell_type": "code",
   "execution_count": 64,
   "id": "1c34b7dd",
   "metadata": {},
   "outputs": [],
   "source": [
    "mylist = [1,2,[\"a\",\"b\"]]"
   ]
  },
  {
   "cell_type": "code",
   "execution_count": 65,
   "id": "5b52f575",
   "metadata": {},
   "outputs": [
    {
     "data": {
      "text/plain": [
       "[1, 2, ['a', 'b']]"
      ]
     },
     "execution_count": 65,
     "metadata": {},
     "output_type": "execute_result"
    }
   ],
   "source": [
    "mylist"
   ]
  },
  {
   "cell_type": "code",
   "execution_count": 67,
   "id": "04d54d7f",
   "metadata": {},
   "outputs": [
    {
     "data": {
      "text/plain": [
       "'b'"
      ]
     },
     "execution_count": 67,
     "metadata": {},
     "output_type": "execute_result"
    }
   ],
   "source": [
    "mylist[2][1]"
   ]
  },
  {
   "cell_type": "code",
   "execution_count": 69,
   "id": "c751e66a",
   "metadata": {},
   "outputs": [
    {
     "data": {
      "text/plain": [
       "'b'"
      ]
     },
     "execution_count": 69,
     "metadata": {},
     "output_type": "execute_result"
    }
   ],
   "source": [
    "mylist[-1][-1]"
   ]
  },
  {
   "cell_type": "code",
   "execution_count": 70,
   "id": "1ab24282",
   "metadata": {},
   "outputs": [
    {
     "data": {
      "text/plain": [
       "[1, 2, ['a', 'b']]"
      ]
     },
     "execution_count": 70,
     "metadata": {},
     "output_type": "execute_result"
    }
   ],
   "source": [
    "mylist"
   ]
  },
  {
   "cell_type": "code",
   "execution_count": 71,
   "id": "6061531c",
   "metadata": {},
   "outputs": [],
   "source": [
    "mylist.append(3)"
   ]
  },
  {
   "cell_type": "code",
   "execution_count": 72,
   "id": "c67db13f",
   "metadata": {},
   "outputs": [
    {
     "data": {
      "text/plain": [
       "[1, 2, ['a', 'b'], 3]"
      ]
     },
     "execution_count": 72,
     "metadata": {},
     "output_type": "execute_result"
    }
   ],
   "source": [
    "mylist"
   ]
  },
  {
   "cell_type": "code",
   "execution_count": 73,
   "id": "69610a88",
   "metadata": {},
   "outputs": [
    {
     "data": {
      "text/plain": [
       "['a', 'b']"
      ]
     },
     "execution_count": 73,
     "metadata": {},
     "output_type": "execute_result"
    }
   ],
   "source": [
    "mylist.pop(2)"
   ]
  },
  {
   "cell_type": "code",
   "execution_count": 74,
   "id": "28a78add",
   "metadata": {},
   "outputs": [
    {
     "data": {
      "text/plain": [
       "[1, 2, 3]"
      ]
     },
     "execution_count": 74,
     "metadata": {},
     "output_type": "execute_result"
    }
   ],
   "source": [
    "mylist"
   ]
  },
  {
   "cell_type": "code",
   "execution_count": 75,
   "id": "0d69acca",
   "metadata": {},
   "outputs": [],
   "source": [
    "del mylist[1]"
   ]
  },
  {
   "cell_type": "code",
   "execution_count": 76,
   "id": "93e0d8f4",
   "metadata": {},
   "outputs": [
    {
     "data": {
      "text/plain": [
       "[1, 3]"
      ]
     },
     "execution_count": 76,
     "metadata": {},
     "output_type": "execute_result"
    }
   ],
   "source": [
    "mylist"
   ]
  },
  {
   "cell_type": "code",
   "execution_count": 77,
   "id": "6c052b8c",
   "metadata": {},
   "outputs": [],
   "source": [
    "mylist = [5,1,6,2]"
   ]
  },
  {
   "cell_type": "code",
   "execution_count": 78,
   "id": "d70f39d6",
   "metadata": {},
   "outputs": [],
   "source": [
    "mylist.sort()"
   ]
  },
  {
   "cell_type": "code",
   "execution_count": 79,
   "id": "4309339a",
   "metadata": {},
   "outputs": [
    {
     "data": {
      "text/plain": [
       "[1, 2, 5, 6]"
      ]
     },
     "execution_count": 79,
     "metadata": {},
     "output_type": "execute_result"
    }
   ],
   "source": [
    "mylist"
   ]
  },
  {
   "cell_type": "code",
   "execution_count": 80,
   "id": "d8990cc0",
   "metadata": {},
   "outputs": [],
   "source": [
    "mylist = [5,1,6,2]"
   ]
  },
  {
   "cell_type": "code",
   "execution_count": 81,
   "id": "a90784cc",
   "metadata": {},
   "outputs": [],
   "source": [
    "mylist.sort(reverse=True)"
   ]
  },
  {
   "cell_type": "code",
   "execution_count": 82,
   "id": "ecc6596b",
   "metadata": {},
   "outputs": [
    {
     "data": {
      "text/plain": [
       "[6, 5, 2, 1]"
      ]
     },
     "execution_count": 82,
     "metadata": {},
     "output_type": "execute_result"
    }
   ],
   "source": [
    "mylist"
   ]
  },
  {
   "cell_type": "code",
   "execution_count": 88,
   "id": "c9e80e4b",
   "metadata": {},
   "outputs": [],
   "source": [
    "mylist = [5,1,6,10]"
   ]
  },
  {
   "cell_type": "code",
   "execution_count": 89,
   "id": "dff35f25",
   "metadata": {},
   "outputs": [],
   "source": [
    "mylist.reverse()"
   ]
  },
  {
   "cell_type": "code",
   "execution_count": 90,
   "id": "32738f3c",
   "metadata": {},
   "outputs": [
    {
     "data": {
      "text/plain": [
       "[10, 6, 1, 5]"
      ]
     },
     "execution_count": 90,
     "metadata": {},
     "output_type": "execute_result"
    }
   ],
   "source": [
    "mylist"
   ]
  },
  {
   "cell_type": "code",
   "execution_count": 86,
   "id": "f6387119",
   "metadata": {},
   "outputs": [],
   "source": [
    "mylist = [5,1,62]"
   ]
  },
  {
   "cell_type": "code",
   "execution_count": 87,
   "id": "0e7dfb7c",
   "metadata": {},
   "outputs": [
    {
     "data": {
      "text/plain": [
       "[1, 5, 62]"
      ]
     },
     "execution_count": 87,
     "metadata": {},
     "output_type": "execute_result"
    }
   ],
   "source": [
    "sorted(mylist)"
   ]
  },
  {
   "cell_type": "code",
   "execution_count": 98,
   "id": "ca72d286",
   "metadata": {},
   "outputs": [],
   "source": [
    "mystr = \"shubham is my name\""
   ]
  },
  {
   "cell_type": "code",
   "execution_count": 99,
   "id": "7dbaa8ac",
   "metadata": {},
   "outputs": [
    {
     "data": {
      "text/plain": [
       "['s',\n",
       " 'h',\n",
       " 'u',\n",
       " 'b',\n",
       " 'h',\n",
       " 'a',\n",
       " 'm',\n",
       " ' ',\n",
       " 'i',\n",
       " 's',\n",
       " ' ',\n",
       " 'm',\n",
       " 'y',\n",
       " ' ',\n",
       " 'n',\n",
       " 'a',\n",
       " 'm',\n",
       " 'e']"
      ]
     },
     "execution_count": 99,
     "metadata": {},
     "output_type": "execute_result"
    }
   ],
   "source": [
    "list(mystr)"
   ]
  },
  {
   "cell_type": "code",
   "execution_count": 100,
   "id": "22b3c532",
   "metadata": {},
   "outputs": [],
   "source": [
    "mylist = [\"shubham\",\"is\",\"my\",\"name\"]"
   ]
  },
  {
   "cell_type": "code",
   "execution_count": 101,
   "id": "8284b059",
   "metadata": {},
   "outputs": [
    {
     "data": {
      "text/plain": [
       "'shubham is my name'"
      ]
     },
     "execution_count": 101,
     "metadata": {},
     "output_type": "execute_result"
    }
   ],
   "source": [
    "' '.join(mylist)"
   ]
  },
  {
   "cell_type": "code",
   "execution_count": 102,
   "id": "23b5a519",
   "metadata": {},
   "outputs": [],
   "source": [
    "mylist = [1,2,[\"a\",\"b\"]]"
   ]
  },
  {
   "cell_type": "code",
   "execution_count": 103,
   "id": "5501213a",
   "metadata": {},
   "outputs": [
    {
     "data": {
      "text/plain": [
       "['a', 'b']"
      ]
     },
     "execution_count": 103,
     "metadata": {},
     "output_type": "execute_result"
    }
   ],
   "source": [
    "mylist[2]"
   ]
  },
  {
   "cell_type": "code",
   "execution_count": 104,
   "id": "30f034d9",
   "metadata": {},
   "outputs": [
    {
     "data": {
      "text/plain": [
       "'b'"
      ]
     },
     "execution_count": 104,
     "metadata": {},
     "output_type": "execute_result"
    }
   ],
   "source": [
    "mylist[2][1]"
   ]
  },
  {
   "cell_type": "markdown",
   "id": "47395712",
   "metadata": {},
   "source": [
    "Tuples"
   ]
  },
  {
   "cell_type": "code",
   "execution_count": 105,
   "id": "1e9c88e5",
   "metadata": {},
   "outputs": [],
   "source": [
    "myt1 = tuple()"
   ]
  },
  {
   "cell_type": "code",
   "execution_count": 106,
   "id": "07d12a08",
   "metadata": {},
   "outputs": [
    {
     "data": {
      "text/plain": [
       "()"
      ]
     },
     "execution_count": 106,
     "metadata": {},
     "output_type": "execute_result"
    }
   ],
   "source": [
    "myt1"
   ]
  },
  {
   "cell_type": "code",
   "execution_count": 107,
   "id": "0b7c7f38",
   "metadata": {},
   "outputs": [
    {
     "data": {
      "text/plain": [
       "tuple"
      ]
     },
     "execution_count": 107,
     "metadata": {},
     "output_type": "execute_result"
    }
   ],
   "source": [
    "type(myt1)"
   ]
  },
  {
   "cell_type": "code",
   "execution_count": 108,
   "id": "fc5b8fad",
   "metadata": {},
   "outputs": [],
   "source": [
    "myt2 = ()"
   ]
  },
  {
   "cell_type": "code",
   "execution_count": 109,
   "id": "d47c723e",
   "metadata": {},
   "outputs": [
    {
     "data": {
      "text/plain": [
       "tuple"
      ]
     },
     "execution_count": 109,
     "metadata": {},
     "output_type": "execute_result"
    }
   ],
   "source": [
    "type(myt2)"
   ]
  },
  {
   "cell_type": "code",
   "execution_count": 110,
   "id": "edf6915c",
   "metadata": {},
   "outputs": [
    {
     "data": {
      "text/plain": [
       "()"
      ]
     },
     "execution_count": 110,
     "metadata": {},
     "output_type": "execute_result"
    }
   ],
   "source": [
    "myt2"
   ]
  },
  {
   "cell_type": "code",
   "execution_count": 111,
   "id": "5a39179a",
   "metadata": {},
   "outputs": [],
   "source": [
    "myl1 = [1]"
   ]
  },
  {
   "cell_type": "code",
   "execution_count": 112,
   "id": "480f0379",
   "metadata": {},
   "outputs": [
    {
     "data": {
      "text/plain": [
       "list"
      ]
     },
     "execution_count": 112,
     "metadata": {},
     "output_type": "execute_result"
    }
   ],
   "source": [
    "type(myl1)"
   ]
  },
  {
   "cell_type": "code",
   "execution_count": 113,
   "id": "b78be31b",
   "metadata": {},
   "outputs": [
    {
     "data": {
      "text/plain": [
       "[1]"
      ]
     },
     "execution_count": 113,
     "metadata": {},
     "output_type": "execute_result"
    }
   ],
   "source": [
    "myl1"
   ]
  },
  {
   "cell_type": "code",
   "execution_count": 117,
   "id": "598e7ddd",
   "metadata": {},
   "outputs": [],
   "source": [
    "myt1 = (1,)"
   ]
  },
  {
   "cell_type": "code",
   "execution_count": 118,
   "id": "ec5ca6aa",
   "metadata": {},
   "outputs": [
    {
     "data": {
      "text/plain": [
       "(1,)"
      ]
     },
     "execution_count": 118,
     "metadata": {},
     "output_type": "execute_result"
    }
   ],
   "source": [
    "myt1"
   ]
  },
  {
   "cell_type": "code",
   "execution_count": 119,
   "id": "5a196fc0",
   "metadata": {},
   "outputs": [
    {
     "data": {
      "text/plain": [
       "tuple"
      ]
     },
     "execution_count": 119,
     "metadata": {},
     "output_type": "execute_result"
    }
   ],
   "source": [
    "type(myt1)"
   ]
  },
  {
   "cell_type": "code",
   "execution_count": 120,
   "id": "edb9d82c",
   "metadata": {},
   "outputs": [],
   "source": [
    "myt1 = (1,2.4,\"python\",True)"
   ]
  },
  {
   "cell_type": "code",
   "execution_count": 121,
   "id": "be61e6b7",
   "metadata": {},
   "outputs": [
    {
     "data": {
      "text/plain": [
       "(1, 2.4, 'python', True)"
      ]
     },
     "execution_count": 121,
     "metadata": {},
     "output_type": "execute_result"
    }
   ],
   "source": [
    "myt1"
   ]
  },
  {
   "cell_type": "code",
   "execution_count": 126,
   "id": "1eb1b332",
   "metadata": {},
   "outputs": [
    {
     "data": {
      "text/plain": [
       "(1, 2.4, 'python', True)"
      ]
     },
     "execution_count": 126,
     "metadata": {},
     "output_type": "execute_result"
    }
   ],
   "source": [
    "myt1[:]"
   ]
  },
  {
   "cell_type": "code",
   "execution_count": 127,
   "id": "d40a3387",
   "metadata": {},
   "outputs": [
    {
     "data": {
      "text/plain": [
       "(1, 2.4, 'python', True)"
      ]
     },
     "execution_count": 127,
     "metadata": {},
     "output_type": "execute_result"
    }
   ],
   "source": [
    "myt1"
   ]
  },
  {
   "cell_type": "code",
   "execution_count": 134,
   "id": "18727bca",
   "metadata": {},
   "outputs": [],
   "source": [
    "del myt1"
   ]
  },
  {
   "cell_type": "code",
   "execution_count": 135,
   "id": "69c930d4",
   "metadata": {},
   "outputs": [
    {
     "ename": "NameError",
     "evalue": "name 'myt1' is not defined",
     "output_type": "error",
     "traceback": [
      "\u001b[1;31m---------------------------------------------------------------------------\u001b[0m",
      "\u001b[1;31mNameError\u001b[0m                                 Traceback (most recent call last)",
      "Cell \u001b[1;32mIn[135], line 1\u001b[0m\n\u001b[1;32m----> 1\u001b[0m \u001b[43mmyt1\u001b[49m\n",
      "\u001b[1;31mNameError\u001b[0m: name 'myt1' is not defined"
     ]
    }
   ],
   "source": [
    "myt1"
   ]
  },
  {
   "cell_type": "code",
   "execution_count": 137,
   "id": "c5e2dc46",
   "metadata": {},
   "outputs": [],
   "source": [
    "myt1 = (1,2,\"a\",True)"
   ]
  },
  {
   "cell_type": "code",
   "execution_count": 138,
   "id": "6ae9b4f2",
   "metadata": {},
   "outputs": [
    {
     "data": {
      "text/plain": [
       "(1, 2, 'a', True)"
      ]
     },
     "execution_count": 138,
     "metadata": {},
     "output_type": "execute_result"
    }
   ],
   "source": [
    "myt1"
   ]
  },
  {
   "cell_type": "code",
   "execution_count": 139,
   "id": "63743929",
   "metadata": {},
   "outputs": [
    {
     "ename": "AttributeError",
     "evalue": "'tuple' object has no attribute 'clear'",
     "output_type": "error",
     "traceback": [
      "\u001b[1;31m---------------------------------------------------------------------------\u001b[0m",
      "\u001b[1;31mAttributeError\u001b[0m                            Traceback (most recent call last)",
      "Cell \u001b[1;32mIn[139], line 1\u001b[0m\n\u001b[1;32m----> 1\u001b[0m \u001b[43mmyt1\u001b[49m\u001b[38;5;241;43m.\u001b[39;49m\u001b[43mclear\u001b[49m()\n",
      "\u001b[1;31mAttributeError\u001b[0m: 'tuple' object has no attribute 'clear'"
     ]
    }
   ],
   "source": [
    "myt1.clear()"
   ]
  },
  {
   "cell_type": "code",
   "execution_count": 151,
   "id": "a51cc1dc",
   "metadata": {},
   "outputs": [],
   "source": [
    "myt1 = (1,5,6,2,10,2)"
   ]
  },
  {
   "cell_type": "code",
   "execution_count": 145,
   "id": "a77d4f4e",
   "metadata": {},
   "outputs": [
    {
     "data": {
      "text/plain": [
       "1"
      ]
     },
     "execution_count": 145,
     "metadata": {},
     "output_type": "execute_result"
    }
   ],
   "source": [
    "myt1.index(5)"
   ]
  },
  {
   "cell_type": "code",
   "execution_count": 146,
   "id": "fdacb500",
   "metadata": {},
   "outputs": [],
   "source": [
    "myt1 = (1,2)"
   ]
  },
  {
   "cell_type": "code",
   "execution_count": 149,
   "id": "7bffb5cc",
   "metadata": {},
   "outputs": [],
   "source": [
    "myt2 = (\"a\",\"b\")"
   ]
  },
  {
   "cell_type": "code",
   "execution_count": 150,
   "id": "eee08625",
   "metadata": {},
   "outputs": [
    {
     "data": {
      "text/plain": [
       "(1, 2, 'a', 'b')"
      ]
     },
     "execution_count": 150,
     "metadata": {},
     "output_type": "execute_result"
    }
   ],
   "source": [
    "myt1 + myt2"
   ]
  },
  {
   "cell_type": "code",
   "execution_count": 152,
   "id": "6fb597a2",
   "metadata": {},
   "outputs": [
    {
     "data": {
      "text/plain": [
       "(1, 5, 6, 2, 10, 2)"
      ]
     },
     "execution_count": 152,
     "metadata": {},
     "output_type": "execute_result"
    }
   ],
   "source": [
    "myt1"
   ]
  },
  {
   "cell_type": "code",
   "execution_count": 153,
   "id": "b04da0df",
   "metadata": {},
   "outputs": [
    {
     "data": {
      "text/plain": [
       "[1, 2, 2, 5, 6, 10]"
      ]
     },
     "execution_count": 153,
     "metadata": {},
     "output_type": "execute_result"
    }
   ],
   "source": [
    "sorted(myt1)"
   ]
  },
  {
   "cell_type": "code",
   "execution_count": 154,
   "id": "688cb7c3",
   "metadata": {},
   "outputs": [
    {
     "data": {
      "text/plain": [
       "(1, 5, 6, 2, 10, 2)"
      ]
     },
     "execution_count": 154,
     "metadata": {},
     "output_type": "execute_result"
    }
   ],
   "source": [
    "myt1"
   ]
  },
  {
   "cell_type": "code",
   "execution_count": 158,
   "id": "5497bd10",
   "metadata": {},
   "outputs": [],
   "source": [
    "myc1 = myt1"
   ]
  },
  {
   "cell_type": "code",
   "execution_count": 159,
   "id": "6bfc67b8",
   "metadata": {},
   "outputs": [
    {
     "data": {
      "text/plain": [
       "(1, 5, 6, 2, 10, 2)"
      ]
     },
     "execution_count": 159,
     "metadata": {},
     "output_type": "execute_result"
    }
   ],
   "source": [
    "myt1"
   ]
  },
  {
   "cell_type": "code",
   "execution_count": 160,
   "id": "8562ddcd",
   "metadata": {},
   "outputs": [],
   "source": [
    "myt1 = list(myt1)"
   ]
  },
  {
   "cell_type": "code",
   "execution_count": 161,
   "id": "6984d7f0",
   "metadata": {},
   "outputs": [
    {
     "data": {
      "text/plain": [
       "[1, 5, 6, 2, 10, 2]"
      ]
     },
     "execution_count": 161,
     "metadata": {},
     "output_type": "execute_result"
    }
   ],
   "source": [
    "myt1"
   ]
  },
  {
   "cell_type": "code",
   "execution_count": 162,
   "id": "234ebbe6",
   "metadata": {},
   "outputs": [],
   "source": [
    "myt1.append(3)"
   ]
  },
  {
   "cell_type": "code",
   "execution_count": 163,
   "id": "e4f3901e",
   "metadata": {},
   "outputs": [
    {
     "data": {
      "text/plain": [
       "[1, 5, 6, 2, 10, 2, 3]"
      ]
     },
     "execution_count": 163,
     "metadata": {},
     "output_type": "execute_result"
    }
   ],
   "source": [
    "myt1"
   ]
  },
  {
   "cell_type": "code",
   "execution_count": 164,
   "id": "1bb4cfc6",
   "metadata": {},
   "outputs": [],
   "source": [
    "myt1 = tuple(myt1)"
   ]
  },
  {
   "cell_type": "code",
   "execution_count": 165,
   "id": "85e1e556",
   "metadata": {},
   "outputs": [
    {
     "data": {
      "text/plain": [
       "(1, 5, 6, 2, 10, 2, 3)"
      ]
     },
     "execution_count": 165,
     "metadata": {},
     "output_type": "execute_result"
    }
   ],
   "source": [
    "myt1"
   ]
  },
  {
   "cell_type": "code",
   "execution_count": 166,
   "id": "cbed899a",
   "metadata": {},
   "outputs": [],
   "source": [
    "mystr = \"shubham is my name\""
   ]
  },
  {
   "cell_type": "code",
   "execution_count": 167,
   "id": "5a7cf3ef",
   "metadata": {},
   "outputs": [],
   "source": [
    "myt1 = tuple(mystr)"
   ]
  },
  {
   "cell_type": "code",
   "execution_count": 168,
   "id": "d206435d",
   "metadata": {},
   "outputs": [
    {
     "data": {
      "text/plain": [
       "('s',\n",
       " 'h',\n",
       " 'u',\n",
       " 'b',\n",
       " 'h',\n",
       " 'a',\n",
       " 'm',\n",
       " ' ',\n",
       " 'i',\n",
       " 's',\n",
       " ' ',\n",
       " 'm',\n",
       " 'y',\n",
       " ' ',\n",
       " 'n',\n",
       " 'a',\n",
       " 'm',\n",
       " 'e')"
      ]
     },
     "execution_count": 168,
     "metadata": {},
     "output_type": "execute_result"
    }
   ],
   "source": [
    "myt1"
   ]
  },
  {
   "cell_type": "code",
   "execution_count": 169,
   "id": "7fa641ab",
   "metadata": {},
   "outputs": [],
   "source": [
    "myt1 = (\"shubham\",\"is\",\"my\",\"name\")"
   ]
  },
  {
   "cell_type": "code",
   "execution_count": 171,
   "id": "a54041ba",
   "metadata": {},
   "outputs": [
    {
     "data": {
      "text/plain": [
       "4"
      ]
     },
     "execution_count": 171,
     "metadata": {},
     "output_type": "execute_result"
    }
   ],
   "source": [
    "len(myt1)"
   ]
  },
  {
   "cell_type": "code",
   "execution_count": 170,
   "id": "806ed61e",
   "metadata": {},
   "outputs": [
    {
     "data": {
      "text/plain": [
       "'shubham is my name'"
      ]
     },
     "execution_count": 170,
     "metadata": {},
     "output_type": "execute_result"
    }
   ],
   "source": [
    "' '.join(myt1)"
   ]
  },
  {
   "cell_type": "markdown",
   "id": "62e87ecd",
   "metadata": {},
   "source": [
    "Sets"
   ]
  },
  {
   "cell_type": "markdown",
   "id": "eb909746",
   "metadata": {},
   "source": [
    "1. unordered\n",
    "2. no duplicate elements\n",
    "3. mutable"
   ]
  },
  {
   "cell_type": "code",
   "execution_count": 172,
   "id": "a8f2332f",
   "metadata": {},
   "outputs": [],
   "source": [
    "mys1 = set()"
   ]
  },
  {
   "cell_type": "code",
   "execution_count": 173,
   "id": "614e03ef",
   "metadata": {},
   "outputs": [
    {
     "data": {
      "text/plain": [
       "set()"
      ]
     },
     "execution_count": 173,
     "metadata": {},
     "output_type": "execute_result"
    }
   ],
   "source": [
    "mys1"
   ]
  },
  {
   "cell_type": "code",
   "execution_count": 174,
   "id": "d9bc4306",
   "metadata": {},
   "outputs": [
    {
     "data": {
      "text/plain": [
       "set"
      ]
     },
     "execution_count": 174,
     "metadata": {},
     "output_type": "execute_result"
    }
   ],
   "source": [
    "type(mys1)"
   ]
  },
  {
   "cell_type": "code",
   "execution_count": 175,
   "id": "1fba523c",
   "metadata": {},
   "outputs": [],
   "source": [
    "mys2 = {}"
   ]
  },
  {
   "cell_type": "code",
   "execution_count": 176,
   "id": "c5a69ceb",
   "metadata": {},
   "outputs": [
    {
     "data": {
      "text/plain": [
       "dict"
      ]
     },
     "execution_count": 176,
     "metadata": {},
     "output_type": "execute_result"
    }
   ],
   "source": [
    "type(mys2)"
   ]
  },
  {
   "cell_type": "code",
   "execution_count": 183,
   "id": "adc4f974",
   "metadata": {},
   "outputs": [],
   "source": [
    "mys2 = {0,2,\"a\",True}"
   ]
  },
  {
   "cell_type": "code",
   "execution_count": 184,
   "id": "2942176f",
   "metadata": {},
   "outputs": [
    {
     "data": {
      "text/plain": [
       "{0, 2, True, 'a'}"
      ]
     },
     "execution_count": 184,
     "metadata": {},
     "output_type": "execute_result"
    }
   ],
   "source": [
    "mys2"
   ]
  },
  {
   "cell_type": "code",
   "execution_count": 188,
   "id": "1990982e",
   "metadata": {},
   "outputs": [
    {
     "data": {
      "text/plain": [
       "False"
      ]
     },
     "execution_count": 188,
     "metadata": {},
     "output_type": "execute_result"
    }
   ],
   "source": [
    "5 in mys2"
   ]
  },
  {
   "cell_type": "code",
   "execution_count": 189,
   "id": "db50ae4c",
   "metadata": {},
   "outputs": [
    {
     "data": {
      "text/plain": [
       "{0, 2, True, 'a'}"
      ]
     },
     "execution_count": 189,
     "metadata": {},
     "output_type": "execute_result"
    }
   ],
   "source": [
    "mys2"
   ]
  },
  {
   "cell_type": "code",
   "execution_count": 205,
   "id": "40e8ac57",
   "metadata": {},
   "outputs": [
    {
     "ename": "TypeError",
     "evalue": "set.add() takes exactly one argument (2 given)",
     "output_type": "error",
     "traceback": [
      "\u001b[1;31m---------------------------------------------------------------------------\u001b[0m",
      "\u001b[1;31mTypeError\u001b[0m                                 Traceback (most recent call last)",
      "Cell \u001b[1;32mIn[205], line 1\u001b[0m\n\u001b[1;32m----> 1\u001b[0m \u001b[43mmys2\u001b[49m\u001b[38;5;241;43m.\u001b[39;49m\u001b[43madd\u001b[49m\u001b[43m(\u001b[49m\u001b[38;5;124;43m\"\u001b[39;49m\u001b[38;5;124;43mpython\u001b[39;49m\u001b[38;5;124;43m\"\u001b[39;49m\u001b[43m,\u001b[49m\u001b[38;5;124;43m\"\u001b[39;49m\u001b[38;5;124;43mcsharp\u001b[39;49m\u001b[38;5;124;43m\"\u001b[39;49m\u001b[43m)\u001b[49m\n",
      "\u001b[1;31mTypeError\u001b[0m: set.add() takes exactly one argument (2 given)"
     ]
    }
   ],
   "source": [
    "mys2.add(\"python\")"
   ]
  },
  {
   "cell_type": "code",
   "execution_count": 191,
   "id": "6941fd0a",
   "metadata": {},
   "outputs": [
    {
     "data": {
      "text/plain": [
       "{0, 2, True, 'a', 'python'}"
      ]
     },
     "execution_count": 191,
     "metadata": {},
     "output_type": "execute_result"
    }
   ],
   "source": [
    "mys2"
   ]
  },
  {
   "cell_type": "code",
   "execution_count": 206,
   "id": "c0b0e1d0",
   "metadata": {},
   "outputs": [],
   "source": [
    "mys2.update([\"csharp\",\"r\"])"
   ]
  },
  {
   "cell_type": "code",
   "execution_count": 207,
   "id": "fee1b928",
   "metadata": {},
   "outputs": [
    {
     "data": {
      "text/plain": [
       "{0,\n",
       " 2,\n",
       " True,\n",
       " 'a',\n",
       " 'b',\n",
       " 'csharp',\n",
       " 'h',\n",
       " 'j',\n",
       " 'java',\n",
       " 'python',\n",
       " 'r',\n",
       " 's',\n",
       " 'shubham',\n",
       " 'u',\n",
       " 'v'}"
      ]
     },
     "execution_count": 207,
     "metadata": {},
     "output_type": "execute_result"
    }
   ],
   "source": [
    "mys2"
   ]
  },
  {
   "cell_type": "code",
   "execution_count": 208,
   "id": "6259b3d6",
   "metadata": {},
   "outputs": [
    {
     "data": {
      "text/plain": [
       "{0,\n",
       " 2,\n",
       " True,\n",
       " 'a',\n",
       " 'b',\n",
       " 'csharp',\n",
       " 'h',\n",
       " 'j',\n",
       " 'java',\n",
       " 'python',\n",
       " 'r',\n",
       " 's',\n",
       " 'shubham',\n",
       " 'u',\n",
       " 'v'}"
      ]
     },
     "execution_count": 208,
     "metadata": {},
     "output_type": "execute_result"
    }
   ],
   "source": [
    "mys2"
   ]
  },
  {
   "cell_type": "code",
   "execution_count": 210,
   "id": "b0e16ac2",
   "metadata": {},
   "outputs": [
    {
     "ename": "AttributeError",
     "evalue": "'set' object has no attribute 'extend'",
     "output_type": "error",
     "traceback": [
      "\u001b[1;31m---------------------------------------------------------------------------\u001b[0m",
      "\u001b[1;31mAttributeError\u001b[0m                            Traceback (most recent call last)",
      "Cell \u001b[1;32mIn[210], line 1\u001b[0m\n\u001b[1;32m----> 1\u001b[0m \u001b[43mmys2\u001b[49m\u001b[38;5;241;43m.\u001b[39;49m\u001b[43mextend\u001b[49m(\u001b[38;5;241m5\u001b[39m)\n",
      "\u001b[1;31mAttributeError\u001b[0m: 'set' object has no attribute 'extend'"
     ]
    }
   ],
   "source": [
    "mys2.extend(5)"
   ]
  },
  {
   "cell_type": "code",
   "execution_count": 211,
   "id": "56f1be55",
   "metadata": {},
   "outputs": [
    {
     "data": {
      "text/plain": [
       "{0,\n",
       " 2,\n",
       " True,\n",
       " 'a',\n",
       " 'b',\n",
       " 'csharp',\n",
       " 'h',\n",
       " 'j',\n",
       " 'java',\n",
       " 'python',\n",
       " 'r',\n",
       " 's',\n",
       " 'shubham',\n",
       " 'u',\n",
       " 'v'}"
      ]
     },
     "execution_count": 211,
     "metadata": {},
     "output_type": "execute_result"
    }
   ],
   "source": [
    "mys2"
   ]
  },
  {
   "cell_type": "code",
   "execution_count": 212,
   "id": "5d687fb8",
   "metadata": {},
   "outputs": [],
   "source": [
    "mys2.discard(\"csharp\")"
   ]
  },
  {
   "cell_type": "code",
   "execution_count": 213,
   "id": "6a637914",
   "metadata": {},
   "outputs": [
    {
     "data": {
      "text/plain": [
       "{0,\n",
       " 2,\n",
       " True,\n",
       " 'a',\n",
       " 'b',\n",
       " 'h',\n",
       " 'j',\n",
       " 'java',\n",
       " 'python',\n",
       " 'r',\n",
       " 's',\n",
       " 'shubham',\n",
       " 'u',\n",
       " 'v'}"
      ]
     },
     "execution_count": 213,
     "metadata": {},
     "output_type": "execute_result"
    }
   ],
   "source": [
    "mys2"
   ]
  },
  {
   "cell_type": "code",
   "execution_count": 214,
   "id": "f1b61526",
   "metadata": {},
   "outputs": [
    {
     "data": {
      "text/plain": [
       "0"
      ]
     },
     "execution_count": 214,
     "metadata": {},
     "output_type": "execute_result"
    }
   ],
   "source": [
    "mys2.pop()"
   ]
  },
  {
   "cell_type": "code",
   "execution_count": 215,
   "id": "9b72c892",
   "metadata": {},
   "outputs": [
    {
     "data": {
      "text/plain": [
       "{2, True, 'a', 'b', 'h', 'j', 'java', 'python', 'r', 's', 'shubham', 'u', 'v'}"
      ]
     },
     "execution_count": 215,
     "metadata": {},
     "output_type": "execute_result"
    }
   ],
   "source": [
    "mys2"
   ]
  },
  {
   "cell_type": "code",
   "execution_count": 216,
   "id": "e91a8222",
   "metadata": {},
   "outputs": [
    {
     "data": {
      "text/plain": [
       "True"
      ]
     },
     "execution_count": 216,
     "metadata": {},
     "output_type": "execute_result"
    }
   ],
   "source": [
    "mys2.pop()"
   ]
  },
  {
   "cell_type": "code",
   "execution_count": 217,
   "id": "68b249de",
   "metadata": {},
   "outputs": [
    {
     "data": {
      "text/plain": [
       "{2, 'a', 'b', 'h', 'j', 'java', 'python', 'r', 's', 'shubham', 'u', 'v'}"
      ]
     },
     "execution_count": 217,
     "metadata": {},
     "output_type": "execute_result"
    }
   ],
   "source": [
    "mys2"
   ]
  },
  {
   "cell_type": "code",
   "execution_count": 218,
   "id": "55f5399b",
   "metadata": {},
   "outputs": [
    {
     "data": {
      "text/plain": [
       "2"
      ]
     },
     "execution_count": 218,
     "metadata": {},
     "output_type": "execute_result"
    }
   ],
   "source": [
    "mys2.pop()"
   ]
  },
  {
   "cell_type": "code",
   "execution_count": 219,
   "id": "7bf9adff",
   "metadata": {},
   "outputs": [
    {
     "data": {
      "text/plain": [
       "'r'"
      ]
     },
     "execution_count": 219,
     "metadata": {},
     "output_type": "execute_result"
    }
   ],
   "source": [
    "mys2.pop()"
   ]
  },
  {
   "cell_type": "code",
   "execution_count": 220,
   "id": "f7173726",
   "metadata": {},
   "outputs": [
    {
     "ename": "AttributeError",
     "evalue": "'set' object has no attribute 'popitem'",
     "output_type": "error",
     "traceback": [
      "\u001b[1;31m---------------------------------------------------------------------------\u001b[0m",
      "\u001b[1;31mAttributeError\u001b[0m                            Traceback (most recent call last)",
      "Cell \u001b[1;32mIn[220], line 1\u001b[0m\n\u001b[1;32m----> 1\u001b[0m \u001b[43mmys2\u001b[49m\u001b[38;5;241;43m.\u001b[39;49m\u001b[43mpopitem\u001b[49m()\n",
      "\u001b[1;31mAttributeError\u001b[0m: 'set' object has no attribute 'popitem'"
     ]
    }
   ],
   "source": [
    "mys2.popitem()"
   ]
  },
  {
   "cell_type": "code",
   "execution_count": 221,
   "id": "21223788",
   "metadata": {},
   "outputs": [],
   "source": [
    "del mys2"
   ]
  },
  {
   "cell_type": "code",
   "execution_count": 222,
   "id": "950c9387",
   "metadata": {},
   "outputs": [
    {
     "ename": "NameError",
     "evalue": "name 'mys2' is not defined",
     "output_type": "error",
     "traceback": [
      "\u001b[1;31m---------------------------------------------------------------------------\u001b[0m",
      "\u001b[1;31mNameError\u001b[0m                                 Traceback (most recent call last)",
      "Cell \u001b[1;32mIn[222], line 1\u001b[0m\n\u001b[1;32m----> 1\u001b[0m \u001b[43mmys2\u001b[49m\n",
      "\u001b[1;31mNameError\u001b[0m: name 'mys2' is not defined"
     ]
    }
   ],
   "source": [
    "mys2"
   ]
  },
  {
   "cell_type": "code",
   "execution_count": 223,
   "id": "db936f8a",
   "metadata": {},
   "outputs": [],
   "source": [
    "mys2 = {1,2,3,4}"
   ]
  },
  {
   "cell_type": "code",
   "execution_count": 224,
   "id": "4ed84408",
   "metadata": {},
   "outputs": [],
   "source": [
    "mys2.clear()"
   ]
  },
  {
   "cell_type": "code",
   "execution_count": 225,
   "id": "1d4d789b",
   "metadata": {},
   "outputs": [
    {
     "data": {
      "text/plain": [
       "set()"
      ]
     },
     "execution_count": 225,
     "metadata": {},
     "output_type": "execute_result"
    }
   ],
   "source": [
    "mys2"
   ]
  },
  {
   "cell_type": "code",
   "execution_count": 228,
   "id": "039404ab",
   "metadata": {},
   "outputs": [],
   "source": [
    "mys2 = {1,2,3,4,4}"
   ]
  },
  {
   "cell_type": "code",
   "execution_count": 229,
   "id": "2aea8aba",
   "metadata": {},
   "outputs": [
    {
     "data": {
      "text/plain": [
       "4"
      ]
     },
     "execution_count": 229,
     "metadata": {},
     "output_type": "execute_result"
    }
   ],
   "source": [
    "len(mys2)"
   ]
  },
  {
   "cell_type": "code",
   "execution_count": 230,
   "id": "e7a41b5f",
   "metadata": {},
   "outputs": [],
   "source": [
    "mys1 = {1,2,3}"
   ]
  },
  {
   "cell_type": "code",
   "execution_count": 231,
   "id": "571f7112",
   "metadata": {},
   "outputs": [],
   "source": [
    "mys2 = {3,4,5}"
   ]
  },
  {
   "cell_type": "code",
   "execution_count": 232,
   "id": "882c49e1",
   "metadata": {},
   "outputs": [
    {
     "data": {
      "text/plain": [
       "{1, 2, 3, 4, 5}"
      ]
     },
     "execution_count": 232,
     "metadata": {},
     "output_type": "execute_result"
    }
   ],
   "source": [
    "mys1.union(mys2)"
   ]
  },
  {
   "cell_type": "code",
   "execution_count": 233,
   "id": "76b6bd71",
   "metadata": {},
   "outputs": [
    {
     "data": {
      "text/plain": [
       "{3}"
      ]
     },
     "execution_count": 233,
     "metadata": {},
     "output_type": "execute_result"
    }
   ],
   "source": [
    "mys1.intersection(mys2)"
   ]
  },
  {
   "cell_type": "code",
   "execution_count": 234,
   "id": "340be7b1",
   "metadata": {},
   "outputs": [
    {
     "data": {
      "text/plain": [
       "{1, 2}"
      ]
     },
     "execution_count": 234,
     "metadata": {},
     "output_type": "execute_result"
    }
   ],
   "source": [
    "mys1.difference(mys2)"
   ]
  },
  {
   "cell_type": "code",
   "execution_count": 235,
   "id": "4ea222e5",
   "metadata": {},
   "outputs": [
    {
     "data": {
      "text/plain": [
       "{4, 5}"
      ]
     },
     "execution_count": 235,
     "metadata": {},
     "output_type": "execute_result"
    }
   ],
   "source": [
    "mys2.difference(mys1)"
   ]
  },
  {
   "cell_type": "code",
   "execution_count": 236,
   "id": "62db3625",
   "metadata": {},
   "outputs": [
    {
     "data": {
      "text/plain": [
       "{1, 2, 4, 5}"
      ]
     },
     "execution_count": 236,
     "metadata": {},
     "output_type": "execute_result"
    }
   ],
   "source": [
    "mys1.symmetric_difference(mys2)"
   ]
  },
  {
   "cell_type": "code",
   "execution_count": 237,
   "id": "a1970ff5",
   "metadata": {},
   "outputs": [
    {
     "data": {
      "text/plain": [
       "{1, 2, 3}"
      ]
     },
     "execution_count": 237,
     "metadata": {},
     "output_type": "execute_result"
    }
   ],
   "source": [
    "mys1"
   ]
  },
  {
   "cell_type": "code",
   "execution_count": 238,
   "id": "733f9529",
   "metadata": {},
   "outputs": [
    {
     "data": {
      "text/plain": [
       "{3, 4, 5}"
      ]
     },
     "execution_count": 238,
     "metadata": {},
     "output_type": "execute_result"
    }
   ],
   "source": [
    "mys2"
   ]
  },
  {
   "cell_type": "code",
   "execution_count": 239,
   "id": "7d260680",
   "metadata": {},
   "outputs": [
    {
     "data": {
      "text/plain": [
       "False"
      ]
     },
     "execution_count": 239,
     "metadata": {},
     "output_type": "execute_result"
    }
   ],
   "source": [
    "mys1.isdisjoint(mys2)"
   ]
  },
  {
   "cell_type": "code",
   "execution_count": 241,
   "id": "484f29a0",
   "metadata": {},
   "outputs": [],
   "source": [
    "mys1 = {1,2}\n",
    "mys2 = {1,2,3,4}"
   ]
  },
  {
   "cell_type": "code",
   "execution_count": 242,
   "id": "de79f3b5",
   "metadata": {},
   "outputs": [
    {
     "data": {
      "text/plain": [
       "True"
      ]
     },
     "execution_count": 242,
     "metadata": {},
     "output_type": "execute_result"
    }
   ],
   "source": [
    "mys1.issubset(mys2)"
   ]
  },
  {
   "cell_type": "code",
   "execution_count": 243,
   "id": "5e0cd39e",
   "metadata": {},
   "outputs": [
    {
     "data": {
      "text/plain": [
       "True"
      ]
     },
     "execution_count": 243,
     "metadata": {},
     "output_type": "execute_result"
    }
   ],
   "source": [
    "mys2.issuperset(mys1)"
   ]
  },
  {
   "cell_type": "code",
   "execution_count": 244,
   "id": "22608570",
   "metadata": {},
   "outputs": [
    {
     "data": {
      "text/plain": [
       "{1, 2}"
      ]
     },
     "execution_count": 244,
     "metadata": {},
     "output_type": "execute_result"
    }
   ],
   "source": [
    "mys1"
   ]
  },
  {
   "cell_type": "code",
   "execution_count": 245,
   "id": "c7551991",
   "metadata": {},
   "outputs": [],
   "source": [
    "mys1f = frozenset(mys1)"
   ]
  },
  {
   "cell_type": "code",
   "execution_count": 246,
   "id": "1c852412",
   "metadata": {},
   "outputs": [
    {
     "data": {
      "text/plain": [
       "frozenset({1, 2})"
      ]
     },
     "execution_count": 246,
     "metadata": {},
     "output_type": "execute_result"
    }
   ],
   "source": [
    "mys1f"
   ]
  },
  {
   "cell_type": "code",
   "execution_count": 247,
   "id": "afe212a1",
   "metadata": {},
   "outputs": [
    {
     "ename": "AttributeError",
     "evalue": "'frozenset' object has no attribute 'add'",
     "output_type": "error",
     "traceback": [
      "\u001b[1;31m---------------------------------------------------------------------------\u001b[0m",
      "\u001b[1;31mAttributeError\u001b[0m                            Traceback (most recent call last)",
      "Cell \u001b[1;32mIn[247], line 1\u001b[0m\n\u001b[1;32m----> 1\u001b[0m \u001b[43mmys1f\u001b[49m\u001b[38;5;241;43m.\u001b[39;49m\u001b[43madd\u001b[49m(\u001b[38;5;241m3\u001b[39m)\n",
      "\u001b[1;31mAttributeError\u001b[0m: 'frozenset' object has no attribute 'add'"
     ]
    }
   ],
   "source": [
    "mys1f.add(3)"
   ]
  },
  {
   "cell_type": "code",
   "execution_count": 248,
   "id": "7cf011cf",
   "metadata": {},
   "outputs": [],
   "source": [
    "myd1 = dict()"
   ]
  },
  {
   "cell_type": "code",
   "execution_count": 249,
   "id": "56428062",
   "metadata": {},
   "outputs": [
    {
     "data": {
      "text/plain": [
       "{}"
      ]
     },
     "execution_count": 249,
     "metadata": {},
     "output_type": "execute_result"
    }
   ],
   "source": [
    "myd1"
   ]
  },
  {
   "cell_type": "code",
   "execution_count": 250,
   "id": "16be6aba",
   "metadata": {},
   "outputs": [
    {
     "data": {
      "text/plain": [
       "dict"
      ]
     },
     "execution_count": 250,
     "metadata": {},
     "output_type": "execute_result"
    }
   ],
   "source": [
    "type(myd1)"
   ]
  },
  {
   "cell_type": "code",
   "execution_count": 251,
   "id": "190bb254",
   "metadata": {},
   "outputs": [],
   "source": [
    "myd2 = {}"
   ]
  },
  {
   "cell_type": "code",
   "execution_count": 252,
   "id": "83090504",
   "metadata": {},
   "outputs": [
    {
     "data": {
      "text/plain": [
       "{}"
      ]
     },
     "execution_count": 252,
     "metadata": {},
     "output_type": "execute_result"
    }
   ],
   "source": [
    "myd2"
   ]
  },
  {
   "cell_type": "code",
   "execution_count": 253,
   "id": "57a6127d",
   "metadata": {},
   "outputs": [
    {
     "data": {
      "text/plain": [
       "dict"
      ]
     },
     "execution_count": 253,
     "metadata": {},
     "output_type": "execute_result"
    }
   ],
   "source": [
    "type(myd2)"
   ]
  },
  {
   "cell_type": "code",
   "execution_count": 254,
   "id": "907ebfd7",
   "metadata": {},
   "outputs": [],
   "source": [
    "myd1 = {\"india\":\"delhi\",\"france\":\"paris\",\"nz\":\"wellington\",\"austria\":\"vienna\"}"
   ]
  },
  {
   "cell_type": "code",
   "execution_count": 255,
   "id": "ab2aefd8",
   "metadata": {},
   "outputs": [
    {
     "data": {
      "text/plain": [
       "{'india': 'delhi', 'france': 'paris', 'nz': 'wellington', 'austria': 'vienna'}"
      ]
     },
     "execution_count": 255,
     "metadata": {},
     "output_type": "execute_result"
    }
   ],
   "source": [
    "myd1"
   ]
  },
  {
   "cell_type": "markdown",
   "id": "a97fa6d3",
   "metadata": {},
   "source": [
    "1. keys cant be duplicate\n",
    "2. keys cant be iterables - lists, sets, tuples can be used"
   ]
  },
  {
   "cell_type": "code",
   "execution_count": 256,
   "id": "9b53a016",
   "metadata": {},
   "outputs": [
    {
     "data": {
      "text/plain": [
       "'delhi'"
      ]
     },
     "execution_count": 256,
     "metadata": {},
     "output_type": "execute_result"
    }
   ],
   "source": [
    "myd1[\"india\"]"
   ]
  },
  {
   "cell_type": "code",
   "execution_count": 257,
   "id": "75820ae4",
   "metadata": {},
   "outputs": [
    {
     "data": {
      "text/plain": [
       "'paris'"
      ]
     },
     "execution_count": 257,
     "metadata": {},
     "output_type": "execute_result"
    }
   ],
   "source": [
    "myd1[\"france\"]"
   ]
  },
  {
   "cell_type": "code",
   "execution_count": 258,
   "id": "6c0e8e79",
   "metadata": {},
   "outputs": [
    {
     "data": {
      "text/plain": [
       "dict_keys(['india', 'france', 'nz', 'austria'])"
      ]
     },
     "execution_count": 258,
     "metadata": {},
     "output_type": "execute_result"
    }
   ],
   "source": [
    "myd1.keys()"
   ]
  },
  {
   "cell_type": "code",
   "execution_count": 259,
   "id": "c4888a14",
   "metadata": {},
   "outputs": [
    {
     "data": {
      "text/plain": [
       "dict_values(['delhi', 'paris', 'wellington', 'vienna'])"
      ]
     },
     "execution_count": 259,
     "metadata": {},
     "output_type": "execute_result"
    }
   ],
   "source": [
    "myd1.values()"
   ]
  },
  {
   "cell_type": "code",
   "execution_count": 260,
   "id": "7dbb7560",
   "metadata": {},
   "outputs": [
    {
     "data": {
      "text/plain": [
       "dict_items([('india', 'delhi'), ('france', 'paris'), ('nz', 'wellington'), ('austria', 'vienna')])"
      ]
     },
     "execution_count": 260,
     "metadata": {},
     "output_type": "execute_result"
    }
   ],
   "source": [
    "myd1.items()"
   ]
  },
  {
   "cell_type": "code",
   "execution_count": 261,
   "id": "36d0e139",
   "metadata": {},
   "outputs": [],
   "source": [
    "myd1[\"pakistan\"] = \"lahore\""
   ]
  },
  {
   "cell_type": "code",
   "execution_count": 262,
   "id": "408b22a4",
   "metadata": {},
   "outputs": [
    {
     "data": {
      "text/plain": [
       "{'india': 'delhi',\n",
       " 'france': 'paris',\n",
       " 'nz': 'wellington',\n",
       " 'austria': 'vienna',\n",
       " 'pakistan': 'lahore'}"
      ]
     },
     "execution_count": 262,
     "metadata": {},
     "output_type": "execute_result"
    }
   ],
   "source": [
    "myd1"
   ]
  },
  {
   "cell_type": "code",
   "execution_count": 263,
   "id": "90f39891",
   "metadata": {},
   "outputs": [],
   "source": [
    "myd1.update({\"russia\":\"moscow\"})"
   ]
  },
  {
   "cell_type": "code",
   "execution_count": 264,
   "id": "06de3f4a",
   "metadata": {},
   "outputs": [
    {
     "data": {
      "text/plain": [
       "{'india': 'delhi',\n",
       " 'france': 'paris',\n",
       " 'nz': 'wellington',\n",
       " 'austria': 'vienna',\n",
       " 'pakistan': 'lahore',\n",
       " 'russia': 'moscow'}"
      ]
     },
     "execution_count": 264,
     "metadata": {},
     "output_type": "execute_result"
    }
   ],
   "source": [
    "myd1"
   ]
  },
  {
   "cell_type": "code",
   "execution_count": 265,
   "id": "8266f3c5",
   "metadata": {},
   "outputs": [],
   "source": [
    "del myd1[\"pakistan\"]"
   ]
  },
  {
   "cell_type": "code",
   "execution_count": 266,
   "id": "3327698e",
   "metadata": {},
   "outputs": [
    {
     "data": {
      "text/plain": [
       "{'india': 'delhi',\n",
       " 'france': 'paris',\n",
       " 'nz': 'wellington',\n",
       " 'austria': 'vienna',\n",
       " 'russia': 'moscow'}"
      ]
     },
     "execution_count": 266,
     "metadata": {},
     "output_type": "execute_result"
    }
   ],
   "source": [
    "myd1"
   ]
  },
  {
   "cell_type": "code",
   "execution_count": 267,
   "id": "9b04abf8",
   "metadata": {},
   "outputs": [
    {
     "data": {
      "text/plain": [
       "'moscow'"
      ]
     },
     "execution_count": 267,
     "metadata": {},
     "output_type": "execute_result"
    }
   ],
   "source": [
    "myd1.pop(\"russia\")"
   ]
  },
  {
   "cell_type": "code",
   "execution_count": 268,
   "id": "ce9c9ef4",
   "metadata": {},
   "outputs": [
    {
     "data": {
      "text/plain": [
       "{'india': 'delhi', 'france': 'paris', 'nz': 'wellington', 'austria': 'vienna'}"
      ]
     },
     "execution_count": 268,
     "metadata": {},
     "output_type": "execute_result"
    }
   ],
   "source": [
    "myd1"
   ]
  },
  {
   "cell_type": "code",
   "execution_count": 269,
   "id": "44766a57",
   "metadata": {},
   "outputs": [
    {
     "data": {
      "text/plain": [
       "('austria', 'vienna')"
      ]
     },
     "execution_count": 269,
     "metadata": {},
     "output_type": "execute_result"
    }
   ],
   "source": [
    "myd1.popitem()"
   ]
  },
  {
   "cell_type": "code",
   "execution_count": 270,
   "id": "a7297105",
   "metadata": {},
   "outputs": [
    {
     "data": {
      "text/plain": [
       "{'india': 'delhi', 'france': 'paris', 'nz': 'wellington'}"
      ]
     },
     "execution_count": 270,
     "metadata": {},
     "output_type": "execute_result"
    }
   ],
   "source": [
    "myd1"
   ]
  },
  {
   "cell_type": "code",
   "execution_count": 271,
   "id": "3c9ca381",
   "metadata": {},
   "outputs": [
    {
     "data": {
      "text/plain": [
       "('nz', 'wellington')"
      ]
     },
     "execution_count": 271,
     "metadata": {},
     "output_type": "execute_result"
    }
   ],
   "source": [
    "myd1.popitem()"
   ]
  },
  {
   "cell_type": "code",
   "execution_count": 272,
   "id": "330e6402",
   "metadata": {},
   "outputs": [
    {
     "ename": "TypeError",
     "evalue": "pop expected at least 1 argument, got 0",
     "output_type": "error",
     "traceback": [
      "\u001b[1;31m---------------------------------------------------------------------------\u001b[0m",
      "\u001b[1;31mTypeError\u001b[0m                                 Traceback (most recent call last)",
      "Cell \u001b[1;32mIn[272], line 1\u001b[0m\n\u001b[1;32m----> 1\u001b[0m \u001b[43mmyd1\u001b[49m\u001b[38;5;241;43m.\u001b[39;49m\u001b[43mpop\u001b[49m\u001b[43m(\u001b[49m\u001b[43m)\u001b[49m\n",
      "\u001b[1;31mTypeError\u001b[0m: pop expected at least 1 argument, got 0"
     ]
    }
   ],
   "source": [
    "myd1.pop()"
   ]
  },
  {
   "cell_type": "code",
   "execution_count": 273,
   "id": "0d7a9103",
   "metadata": {},
   "outputs": [],
   "source": [
    "myd1 = {\"a\":\"b\",\"c\":{\"a\":\"b\"}}"
   ]
  },
  {
   "cell_type": "code",
   "execution_count": 274,
   "id": "0296d08c",
   "metadata": {},
   "outputs": [
    {
     "data": {
      "text/plain": [
       "{'a': 'b', 'c': {'a': 'b'}}"
      ]
     },
     "execution_count": 274,
     "metadata": {},
     "output_type": "execute_result"
    }
   ],
   "source": [
    "myd1"
   ]
  },
  {
   "cell_type": "code",
   "execution_count": 276,
   "id": "6ff60430",
   "metadata": {},
   "outputs": [
    {
     "data": {
      "text/plain": [
       "'b'"
      ]
     },
     "execution_count": 276,
     "metadata": {},
     "output_type": "execute_result"
    }
   ],
   "source": [
    "myd1[\"c\"][\"a\"]"
   ]
  },
  {
   "cell_type": "code",
   "execution_count": 277,
   "id": "bc3aaa5d",
   "metadata": {},
   "outputs": [
    {
     "data": {
      "text/plain": [
       "{'a': 'b', 'c': {'a': 'b'}}"
      ]
     },
     "execution_count": 277,
     "metadata": {},
     "output_type": "execute_result"
    }
   ],
   "source": [
    "myd1"
   ]
  },
  {
   "cell_type": "code",
   "execution_count": 279,
   "id": "e8c5c6f1",
   "metadata": {},
   "outputs": [
    {
     "data": {
      "text/plain": [
       "True"
      ]
     },
     "execution_count": 279,
     "metadata": {},
     "output_type": "execute_result"
    }
   ],
   "source": [
    "'a' in myd1"
   ]
  },
  {
   "cell_type": "code",
   "execution_count": 285,
   "id": "d53abaa2",
   "metadata": {},
   "outputs": [],
   "source": [
    "myd1 = {\"india\":\"a\"}"
   ]
  },
  {
   "cell_type": "code",
   "execution_count": 286,
   "id": "3c53376a",
   "metadata": {},
   "outputs": [
    {
     "data": {
      "text/plain": [
       "{'india': 'a'}"
      ]
     },
     "execution_count": 286,
     "metadata": {},
     "output_type": "execute_result"
    }
   ],
   "source": [
    "myd1"
   ]
  },
  {
   "cell_type": "code",
   "execution_count": 293,
   "id": "c768a6c9",
   "metadata": {},
   "outputs": [],
   "source": [
    "keys = {1,2,3,4}\n",
    "values = {\"a\",\"b\",\"c\",\"d\"}\n",
    "mydict = dict(zip(keys,values))"
   ]
  },
  {
   "cell_type": "code",
   "execution_count": 294,
   "id": "cef9bb16",
   "metadata": {},
   "outputs": [
    {
     "data": {
      "text/plain": [
       "{1: 'd', 2: 'c', 3: 'a', 4: 'b'}"
      ]
     },
     "execution_count": 294,
     "metadata": {},
     "output_type": "execute_result"
    }
   ],
   "source": [
    "mydict"
   ]
  },
  {
   "cell_type": "code",
   "execution_count": 289,
   "id": "73c63e38",
   "metadata": {},
   "outputs": [
    {
     "data": {
      "text/plain": [
       "'a'"
      ]
     },
     "execution_count": 289,
     "metadata": {},
     "output_type": "execute_result"
    }
   ],
   "source": [
    "mydict.get(1)"
   ]
  },
  {
   "cell_type": "code",
   "execution_count": 290,
   "id": "5ca86765",
   "metadata": {},
   "outputs": [
    {
     "data": {
      "text/plain": [
       "'a'"
      ]
     },
     "execution_count": 290,
     "metadata": {},
     "output_type": "execute_result"
    }
   ],
   "source": [
    "mydict[1]"
   ]
  },
  {
   "cell_type": "code",
   "execution_count": 303,
   "id": "661c9bfd",
   "metadata": {},
   "outputs": [],
   "source": [
    "mystr = \"ShUbH\""
   ]
  },
  {
   "cell_type": "code",
   "execution_count": 304,
   "id": "c93ab986",
   "metadata": {},
   "outputs": [
    {
     "data": {
      "text/plain": [
       "'sHuBh'"
      ]
     },
     "execution_count": 304,
     "metadata": {},
     "output_type": "execute_result"
    }
   ],
   "source": [
    "mystr.swapcase()"
   ]
  },
  {
   "cell_type": "code",
   "execution_count": 305,
   "id": "098ef777",
   "metadata": {},
   "outputs": [],
   "source": [
    "mystr = \"shubham is my name\""
   ]
  },
  {
   "cell_type": "code",
   "execution_count": 306,
   "id": "58cb6749",
   "metadata": {},
   "outputs": [
    {
     "data": {
      "text/plain": [
       "6"
      ]
     },
     "execution_count": 306,
     "metadata": {},
     "output_type": "execute_result"
    }
   ],
   "source": [
    "mystr.find(\"m\")"
   ]
  },
  {
   "cell_type": "code",
   "execution_count": 307,
   "id": "dde4b902",
   "metadata": {},
   "outputs": [
    {
     "data": {
      "text/plain": [
       "'shubh is my name'"
      ]
     },
     "execution_count": 307,
     "metadata": {},
     "output_type": "execute_result"
    }
   ],
   "source": [
    "mystr.replace(\"shubham\",\"shubh\")"
   ]
  },
  {
   "cell_type": "code",
   "execution_count": 308,
   "id": "8d0db94c",
   "metadata": {},
   "outputs": [
    {
     "data": {
      "text/plain": [
       "'shubham is my name'"
      ]
     },
     "execution_count": 308,
     "metadata": {},
     "output_type": "execute_result"
    }
   ],
   "source": [
    "mystr"
   ]
  },
  {
   "cell_type": "code",
   "execution_count": 311,
   "id": "260c43b0",
   "metadata": {},
   "outputs": [
    {
     "data": {
      "text/plain": [
       "-1"
      ]
     },
     "execution_count": 311,
     "metadata": {},
     "output_type": "execute_result"
    }
   ],
   "source": [
    "mystr.find(\"z\")"
   ]
  },
  {
   "cell_type": "code",
   "execution_count": null,
   "id": "d848562c",
   "metadata": {},
   "outputs": [],
   "source": []
  }
 ],
 "metadata": {
  "kernelspec": {
   "display_name": "Python 3",
   "language": "python",
   "name": "python3"
  },
  "language_info": {
   "codemirror_mode": {
    "name": "ipython",
    "version": 3
   },
   "file_extension": ".py",
   "mimetype": "text/x-python",
   "name": "python",
   "nbconvert_exporter": "python",
   "pygments_lexer": "ipython3",
   "version": "3.10.9"
  }
 },
 "nbformat": 4,
 "nbformat_minor": 5
}
